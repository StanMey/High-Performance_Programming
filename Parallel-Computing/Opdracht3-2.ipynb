{
 "cells": [
  {
   "cell_type": "markdown",
   "metadata": {},
   "source": [
    "# Opdracht 3.2: Multiple Threads"
   ]
  },
  {
   "cell_type": "code",
   "execution_count": 1,
   "metadata": {},
   "outputs": [
    {
     "name": "stderr",
     "output_type": "stream",
     "text": [
      "18:17:29: Main    : create and start thread 0.\n",
      "18:17:29: Thread 0: starting\n",
      "18:17:29: Main    : create and start thread 1.\n",
      "18:17:29: Thread 1: starting\n",
      "18:17:29: Main    : create and start thread 2.\n",
      "18:17:29: Thread 2: starting\n",
      "18:17:29: Main    : before joining thread 0.\n",
      "18:17:31: Thread 0: finishing\n",
      "18:17:31: Main    : thread 0 done\n",
      "18:17:31: Main    : before joining thread 1.\n",
      "18:17:31: Thread 1: finishing\n",
      "18:17:31: Main    : thread 1 done\n",
      "18:17:31: Main    : before joining thread 2.\n",
      "18:17:31: Thread 2: finishing\n",
      "18:17:31: Main    : thread 2 done\n"
     ]
    }
   ],
   "source": [
    "import logging\n",
    "import threading\n",
    "import time\n",
    "\n",
    "def thread_function(name):\n",
    "    logging.info(\"Thread %s: starting\", name)\n",
    "    time.sleep(2) # wait for 2 seconds\n",
    "    logging.info(\"Thread %s: finishing\", name)\n",
    "\n",
    "if __name__ == \"__main__\":\n",
    "    format = \"%(asctime)s: %(message)s\"\n",
    "    logging.basicConfig(format=format, level=logging.INFO,\n",
    "                        datefmt=\"%H:%M:%S\")\n",
    "    threads = list()\n",
    "    for index in range(3):\n",
    "        logging.info(\"Main    : create and start thread %d.\", index)\n",
    "        x = threading.Thread(target=thread_function, args=(index,))\n",
    "        threads.append(x)\n",
    "        x.start()\n",
    "\n",
    "    for index, thread in enumerate(threads):\n",
    "        logging.info(\"Main    : before joining thread %d.\", index)\n",
    "        thread.join()\n",
    "        logging.info(\"Main    : thread %d done\", index)"
   ]
  },
  {
   "cell_type": "markdown",
   "metadata": {},
   "source": [
    "Iedere Thread wordt één voor één geforkt en gestart om ze daarna weer in chronologische volgorde ze één voor één terug te joinen."
   ]
  },
  {
   "cell_type": "code",
   "execution_count": 2,
   "metadata": {},
   "outputs": [
    {
     "name": "stderr",
     "output_type": "stream",
     "text": [
      "18:17:31: Thread 0: starting\n",
      "18:17:31: Thread 1: starting\n",
      "18:17:31: Thread 2: starting\n",
      "18:17:33: Thread 0: finishing\n",
      "18:17:33: Thread 1: finishing\n",
      "18:17:33: Thread 2: finishing\n"
     ]
    }
   ],
   "source": [
    "import concurrent.futures\n",
    "\n",
    "if __name__ == \"__main__\":\n",
    "    format = \"%(asctime)s: %(message)s\"\n",
    "    logging.basicConfig(format=format, level=logging.INFO,\n",
    "                        datefmt=\"%H:%M:%S\")\n",
    "\n",
    "    with concurrent.futures.ThreadPoolExecutor(max_workers=3) as executor:\n",
    "        executor.map(thread_function, range(3))"
   ]
  }
 ],
 "metadata": {
  "kernelspec": {
   "display_name": "Python 3",
   "language": "python",
   "name": "python3"
  },
  "language_info": {
   "codemirror_mode": {
    "name": "ipython",
    "version": 3
   },
   "file_extension": ".py",
   "mimetype": "text/x-python",
   "name": "python",
   "nbconvert_exporter": "python",
   "pygments_lexer": "ipython3",
   "version": "3.7.6"
  }
 },
 "nbformat": 4,
 "nbformat_minor": 4
}
