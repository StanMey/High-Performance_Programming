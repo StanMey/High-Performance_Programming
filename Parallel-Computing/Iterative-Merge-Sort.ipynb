{
 "cells": [
  {
   "cell_type": "markdown",
   "metadata": {},
   "source": [
    "# Iterative Merge Sort"
   ]
  },
  {
   "cell_type": "code",
   "execution_count": 1,
   "metadata": {},
   "outputs": [],
   "source": [
    "import math"
   ]
  },
  {
   "cell_type": "code",
   "execution_count": 2,
   "metadata": {},
   "outputs": [],
   "source": [
    "def merge_arrays(arr1, arr2):\n",
    "    \"\"\"\n",
    "    Merges two sorted arrays into one sorted array\n",
    "    \"\"\"\n",
    "    \n",
    "    i = 0\n",
    "    j = 0\n",
    "    arr3 = list()\n",
    "    \n",
    "    while i < len(arr1) and j < len(arr2):\n",
    "        \n",
    "        if arr1[i] < arr2[j]:\n",
    "            arr3.append(arr1[i])\n",
    "            i += 1\n",
    "        else:\n",
    "            arr3.append(arr2[j])\n",
    "            j += 1\n",
    "    \n",
    "    while i < len(arr1):\n",
    "        arr3.append(arr1[i])\n",
    "        i += 1\n",
    "    \n",
    "    while j < len(arr2):\n",
    "        arr3.append(arr2[j])\n",
    "        j += 1\n",
    "    \n",
    "    return arr3"
   ]
  },
  {
   "cell_type": "code",
   "execution_count": 3,
   "metadata": {},
   "outputs": [
    {
     "data": {
      "text/plain": [
       "[[2, 4, 4, 7, 8, 10, 14, 16, 29]]"
      ]
     },
     "execution_count": 3,
     "metadata": {},
     "output_type": "execute_result"
    }
   ],
   "source": [
    "def iter_merge_sort(array):\n",
    "    \"\"\"An iterative version of merge sort\"\"\"\n",
    "    \n",
    "    # set all the elements to single arrays\n",
    "    list_of_lists = list(map(lambda x: [x], array))\n",
    "    \n",
    "    # calculate the total amount of iterations needed\n",
    "    iterations = math.ceil(len(list_of_lists) / 2)\n",
    "    \n",
    "    for i in range(iterations):\n",
    "    \n",
    "        delta = math.ceil(len(list_of_lists) / 2)\n",
    "        new_list = []\n",
    "        n1, n2 = 0, 0\n",
    "        \n",
    "        for x in range(delta):\n",
    "            \n",
    "            # increment n2 and correct for out of bounds\n",
    "            n2 += 2\n",
    "            n2 = min(n2, len(list_of_lists))\n",
    "\n",
    "            # select the lists to be merged\n",
    "            ch_list = list_of_lists[n1:n2]\n",
    "            if len(ch_list) > 1:\n",
    "                new_list.append(merge_arrays(ch_list[0], ch_list[1]))\n",
    "            else:\n",
    "                new_list.append(ch_list[0])\n",
    "\n",
    "            # increment n1\n",
    "            n1 = n2\n",
    "\n",
    "        # update the lists\n",
    "        list_of_lists = new_list.copy()\n",
    "        new_list = []\n",
    "    \n",
    "    return list_of_lists\n",
    "        \n",
    "        \n",
    "\n",
    "\n",
    "n = [4, 7, 2, 10, 4, 29, 14, 16, 8]\n",
    "iter_merge_sort(n)"
   ]
  }
 ],
 "metadata": {
  "kernelspec": {
   "display_name": "Python 3",
   "language": "python",
   "name": "python3"
  },
  "language_info": {
   "codemirror_mode": {
    "name": "ipython",
    "version": 3
   },
   "file_extension": ".py",
   "mimetype": "text/x-python",
   "name": "python",
   "nbconvert_exporter": "python",
   "pygments_lexer": "ipython3",
   "version": "3.7.6"
  }
 },
 "nbformat": 4,
 "nbformat_minor": 4
}
