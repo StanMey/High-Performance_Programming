{
 "cells": [
  {
   "cell_type": "markdown",
   "metadata": {},
   "source": [
    "# Opdracht 3.3: Race Conditions\n",
    "\n",
    "Race conditions kunnen optreden als twee of meer threads draaien die een stuk data delen. Race conditions zijn de problemen die optreden als meerdere processen/threads tegelijkertijd variabelen proberen te (over)schrijven.  \n",
    "  \n",
    "In veel gevallen treden race conditions maar af-en-toe op, waardoor ze ook zo lastig zijn om te debuggen (het programma doet dan ineens iets wat niet verwacht wordt)."
   ]
  },
  {
   "cell_type": "code",
   "execution_count": 1,
   "metadata": {},
   "outputs": [],
   "source": [
    "import threading, logging, time\n",
    "import concurrent.futures\n",
    "\n",
    "class FakeDatabase:\n",
    "    def __init__(self):\n",
    "        self.value = 0\n",
    "\n",
    "    def update(self, name):\n",
    "        logging.info(\"Thread %s: starting update\", name)\n",
    "        local_copy = self.value\n",
    "        local_copy += 1\n",
    "        time.sleep(0.1)\n",
    "        self.value = local_copy\n",
    "        logging.info(\"Thread %s: finishing update\", name)"
   ]
  },
  {
   "cell_type": "code",
   "execution_count": 2,
   "metadata": {},
   "outputs": [
    {
     "name": "stderr",
     "output_type": "stream",
     "text": [
      "18:52:23: Testing update. Starting value is 0.\n",
      "18:52:23: Thread 0: starting update\n",
      "18:52:23: Thread 1: starting update\n",
      "18:52:23: Thread 0: finishing update\n",
      "18:52:23: Thread 1: finishing update\n",
      "18:52:23: Testing update. Ending value is 1.\n"
     ]
    }
   ],
   "source": [
    "if __name__ == \"__main__\":\n",
    "    format = \"%(asctime)s: %(message)s\"\n",
    "    logging.basicConfig(format=format, level=logging.INFO,\n",
    "                        datefmt=\"%H:%M:%S\")\n",
    "\n",
    "    database = FakeDatabase()\n",
    "    logging.info(\"Testing update. Starting value is %d.\", database.value)\n",
    "    with concurrent.futures.ThreadPoolExecutor(max_workers=2) as executor:\n",
    "        for index in range(2):\n",
    "            executor.submit(database.update, index)\n",
    "    logging.info(\"Testing update. Ending value is %d.\", database.value)"
   ]
  },
  {
   "cell_type": "markdown",
   "metadata": {},
   "source": [
    "In principe zouden we hier verwachten dat het programma, aangezien er twee Threads worden aangemaakt, de value van FakeDatabase uiteindelijk aan het einde opgehoogt heeft tot een waarde van 2.  \n",
    "  \n",
    "In dit programma is de Race condition die optreedt de $\\textbf{time.sleep(0.1)}$ die intern in de update functie wordt aangeroepen. Hierdoor zullen beide Threads op het moment van starten de waarde van value als een 0 lezen, waardoor ze allebei op het einde de waarde updaten tot een 1."
   ]
  }
 ],
 "metadata": {
  "kernelspec": {
   "display_name": "Python 3",
   "language": "python",
   "name": "python3"
  },
  "language_info": {
   "codemirror_mode": {
    "name": "ipython",
    "version": 3
   },
   "file_extension": ".py",
   "mimetype": "text/x-python",
   "name": "python",
   "nbconvert_exporter": "python",
   "pygments_lexer": "ipython3",
   "version": "3.7.6"
  }
 },
 "nbformat": 4,
 "nbformat_minor": 4
}
