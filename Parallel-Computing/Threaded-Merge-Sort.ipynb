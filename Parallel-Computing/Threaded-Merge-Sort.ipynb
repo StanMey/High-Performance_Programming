{
 "cells": [
  {
   "cell_type": "markdown",
   "metadata": {},
   "source": [
    "# Threaded Merge Sort\n",
    "\n",
    "In deze notebook wordt de PoC implementatie van een threaded merge sort weergeven. Voor deze implementatie is gebruik gemaakt van de *threading* module van Python."
   ]
  },
  {
   "cell_type": "code",
   "execution_count": 1,
   "metadata": {},
   "outputs": [],
   "source": [
    "import numpy as np\n",
    "import matplotlib.pyplot as plt\n",
    "import seaborn as sns\n",
    "\n",
    "import threading\n",
    "import logging\n",
    "import math\n",
    "import time"
   ]
  },
  {
   "cell_type": "markdown",
   "metadata": {},
   "source": [
    "Aangezien er uiteindelijk gebruik gemaakt gaat worden van merge sort is ervoor gekozen om een functie ervan te maken. Deze functie krijgt een ongesorteerde lijst van getallen binnen en sorteert deze lijst met behulp van het merge sort algoritme tot een gesorteerde lijst alvorens deze terug te geven."
   ]
  },
  {
   "cell_type": "code",
   "execution_count": 2,
   "metadata": {},
   "outputs": [],
   "source": [
    "def merge_sort(arr):\n",
    "    \"\"\"\n",
    "    Uses the merge sort algorithm to sort a list of unordered numbers\n",
    "    \n",
    "    source: https://www.geeksforgeeks.org/merge-sort/\n",
    "    \"\"\"\n",
    "    if len(arr) >1:\n",
    "        \n",
    "        # finding the middle of the array\n",
    "        mid = len(arr)//2\n",
    "        \n",
    "        # divide the array in two parts\n",
    "        L = arr[:mid]\n",
    "        R = arr[mid:]\n",
    "        \n",
    "        # sort both halves\n",
    "        merge_sort(L) # Sorting the first half \n",
    "        merge_sort(R) # Sorting the second half \n",
    "  \n",
    "        i = j = k = 0\n",
    "        \n",
    "        # merge the two arrays back into the original array\n",
    "        while i < len(L) and j < len(R): \n",
    "            if L[i] < R[j]: \n",
    "                arr[k] = L[i] \n",
    "                i+=1\n",
    "            else: \n",
    "                arr[k] = R[j] \n",
    "                j+=1\n",
    "            k+=1\n",
    "          \n",
    "        # checking if any element is left \n",
    "        while i < len(L): \n",
    "            arr[k] = L[i] \n",
    "            i+=1\n",
    "            k+=1\n",
    "          \n",
    "        while j < len(R): \n",
    "            arr[k] = R[j] \n",
    "            j+=1\n",
    "            k+=1"
   ]
  },
  {
   "cell_type": "markdown",
   "metadata": {},
   "source": [
    "Om uiteindelijk de gesorteerde lijsten die door de threads teruggegeven worden weer terug te plaatsen naar één lijst is hiervoor een functie gecreeërd. Deze functie vertoont ongeveer hetzelfde gedrag als de *merge* die bij merge sort gebruikt wordt."
   ]
  },
  {
   "cell_type": "code",
   "execution_count": 3,
   "metadata": {},
   "outputs": [],
   "source": [
    "def merge_arrays(arr1, arr2):\n",
    "    \"\"\"\n",
    "    Merges two sorted arrays into one sorted array\n",
    "    \"\"\"\n",
    "    \n",
    "    i = 0\n",
    "    j = 0\n",
    "    arr3 = list()\n",
    "    \n",
    "    while i < len(arr1) and j < len(arr2):\n",
    "        \n",
    "        if arr1[i] < arr2[j]:\n",
    "            arr3.append(arr1[i])\n",
    "            i += 1\n",
    "        else:\n",
    "            arr3.append(arr2[j])\n",
    "            j += 1\n",
    "    \n",
    "    while i < len(arr1):\n",
    "        arr3.append(arr1[i])\n",
    "        i += 1\n",
    "    \n",
    "    while j < len(arr2):\n",
    "        arr3.append(arr2[j])\n",
    "        j += 1\n",
    "    \n",
    "    return arr3"
   ]
  },
  {
   "cell_type": "markdown",
   "metadata": {},
   "source": [
    "Om uiteindelijk de threads te kunnen draaien is ervoor gekozen om een *WorkerThread* klasse te bouwen waarbij een uiteindelijke instantie zich zal gedragen als een thread.  \n",
    "Wanneer de instantie van deze klasse aangemaakt wordt zal het tijdens het aanmaken een ongesorteerde lijst meekrijgen van een bepaalde lengte die het daarna zal sorteren met behulp van de eerder aangemaakte merge sort functie."
   ]
  },
  {
   "cell_type": "code",
   "execution_count": 4,
   "metadata": {},
   "outputs": [],
   "source": [
    "class WorkerThread(threading.Thread):\n",
    "    \n",
    "    def __init__(self, args):\n",
    "        \"\"\"\n",
    "        args must contain the array to be sorted.\n",
    "        \"\"\"\n",
    "        threading.Thread.__init__(self, args=args)\n",
    "        self.array = args[0]\n",
    "    \n",
    "    def run(self):\n",
    "        \"\"\"\n",
    "        This will be called automatically by start() in\n",
    "        main.  It's the method that does all the work.\n",
    "        \"\"\"\n",
    "        merge_sort(self.array)\n",
    "    \n",
    "    def get(self):\n",
    "        \"\"\"\n",
    "        gets the sorted array\n",
    "        \"\"\"\n",
    "        return self.array"
   ]
  },
  {
   "cell_type": "markdown",
   "metadata": {},
   "source": [
    "Het uiteindelijke algoritme om multithreaded merge sort toe te passen krijgt een lijst met ongesorteerde getallen en de hoeveelheid threads die gebruikt kunnen worden binnen. De lijst met getallen wordt opgedeeld, op basis van de hoeveelheid 'beschikbare' threads, in kleinere lijsten. Deze kleinere lijsten worden per stuk meegegeven aan een Thread object die de merge sort uitvoert over zijn lijst.  \n",
    "Uiteindelijk worden alle lijsten samengevoegd waardoor er op het laatst een gesorteerde lijst van getallen teruggegeven kan worden."
   ]
  },
  {
   "cell_type": "code",
   "execution_count": 5,
   "metadata": {},
   "outputs": [],
   "source": [
    "def threaded_merge_sort(array, thread_amount):\n",
    "    \"\"\"\n",
    "    Sorts an unsorted array with multithreading and the merge sort algorithm\n",
    "    \"\"\"\n",
    "    \n",
    "    N = len(array)\n",
    "    ranges = list()\n",
    "    n1 = 0\n",
    "    delta = math.ceil(N/thread_amount)\n",
    "    \n",
    "    # get the ranges of the array to select\n",
    "    for i in range(thread_amount):\n",
    "        n2 = min(n1 + delta, N)\n",
    "        ranges.append((n1, n2))\n",
    "        n1 = n2\n",
    "    \n",
    "    # Build, save and start the threads\n",
    "    threads = list()\n",
    "    for index in range(thread_amount):\n",
    "        n_range = ranges[index]\n",
    "        x = WorkerThread([array[n_range[0]:n_range[1]]])\n",
    "        threads.append(x)\n",
    "        x.start()\n",
    "    \n",
    "    # loop over every started thread\n",
    "    result_array = list()\n",
    "    for index, thread in enumerate(threads):\n",
    "        # join the thread and merge the sorted list\n",
    "        thread.join()\n",
    "        result_array = merge_arrays(result_array, thread.get())\n",
    "    \n",
    "    return result_array"
   ]
  },
  {
   "cell_type": "markdown",
   "metadata": {},
   "source": [
    "Hierna testen we het algoritme om te kijken of de array compleet gesorteerd wordt."
   ]
  },
  {
   "cell_type": "code",
   "execution_count": 6,
   "metadata": {},
   "outputs": [
    {
     "name": "stdout",
     "output_type": "stream",
     "text": [
      "Array before sorting:\n",
      "[5, 3, 7, 6, 9, 10, 4, 6, 3, 7, 5, 4, 2, 6, 40, 10, 2, 15]\n",
      "\n",
      "Array after sorting:\n",
      "[2, 2, 3, 3, 4, 4, 5, 5, 6, 6, 6, 7, 7, 9, 10, 10, 15, 40]\n"
     ]
    }
   ],
   "source": [
    "n = [5, 3, 7, 6, 9, 10, 4, 6, 3, 7, 5, 4, 2, 6, 40, 10, 2, 15]\n",
    "print(\"Array before sorting:\\n{0}\\n\".format(n))\n",
    "sorted_array = threaded_merge_sort(n, 4)\n",
    "print(\"Array after sorting:\\n{0}\".format(sorted_array))"
   ]
  },
  {
   "cell_type": "markdown",
   "metadata": {},
   "source": [
    "Om inzicht te krijgen in de snelheid van het algoritme laten we het algoritme meerdere runs doen waarin er zowel een variabele hoeveelheid threads beschikbaar zijn alsmede een variabele hoeveelheid getallen die gesorteerd moeten worden. Deze resultaten worden allemaal opgeslagen om zodadelijk deze resultaten in een grafiek tegenover elkaar uit te zetten."
   ]
  },
  {
   "cell_type": "code",
   "execution_count": 7,
   "metadata": {},
   "outputs": [
    {
     "name": "stdout",
     "output_type": "stream",
     "text": [
      "function with 1 threads and 1000 random numbers took 0.008 sec\n",
      "function with 1 threads and 5000 random numbers took 0.047 sec\n",
      "function with 1 threads and 10000 random numbers took 0.091 sec\n",
      "function with 1 threads and 20000 random numbers took 0.199 sec\n",
      "function with 1 threads and 30000 random numbers took 0.299 sec\n",
      "function with 1 threads and 50000 random numbers took 0.520 sec\n",
      "\n",
      "function with 2 threads and 1000 random numbers took 0.010 sec\n",
      "function with 2 threads and 5000 random numbers took 0.049 sec\n",
      "function with 2 threads and 10000 random numbers took 0.112 sec\n",
      "function with 2 threads and 20000 random numbers took 0.220 sec\n",
      "function with 2 threads and 30000 random numbers took 0.325 sec\n",
      "function with 2 threads and 50000 random numbers took 0.525 sec\n",
      "\n",
      "function with 4 threads and 1000 random numbers took 0.009 sec\n",
      "function with 4 threads and 5000 random numbers took 0.047 sec\n",
      "function with 4 threads and 10000 random numbers took 0.102 sec\n",
      "function with 4 threads and 20000 random numbers took 0.225 sec\n",
      "function with 4 threads and 30000 random numbers took 0.336 sec\n",
      "function with 4 threads and 50000 random numbers took 0.531 sec\n",
      "\n",
      "function with 8 threads and 1000 random numbers took 0.011 sec\n",
      "function with 8 threads and 5000 random numbers took 0.048 sec\n",
      "function with 8 threads and 10000 random numbers took 0.105 sec\n",
      "function with 8 threads and 20000 random numbers took 0.233 sec\n",
      "function with 8 threads and 30000 random numbers took 0.327 sec\n",
      "function with 8 threads and 50000 random numbers took 0.578 sec\n",
      "\n"
     ]
    }
   ],
   "source": [
    "thread_list = [1, 2, 4, 8]\n",
    "n = [1000, 5000, 10000, 20000, 30000, 50000]\n",
    "\n",
    "timings = {}\n",
    "\n",
    "for thread in thread_list:\n",
    "    timings[thread] = []\n",
    "    \n",
    "    for x in n:\n",
    "        time1 = time.time()\n",
    "        threaded_merge_sort(np.random.randint(low=0, high=x+1, size=x), thread)\n",
    "        time2 = time.time()\n",
    "        diff_time = round((time2 - time1), 3)\n",
    "        timings[thread].append([diff_time, x])\n",
    "        print('function with {} threads and {} random numbers took {:.3f} sec'.format(thread, x, diff_time))\n",
    "        \n",
    "    print()"
   ]
  },
  {
   "cell_type": "markdown",
   "metadata": {},
   "source": [
    "Om het verschil in snelheden weer te geven is ervoor gekozen om de resultaten die hierboven gemeten zijn weer te geven in een grafiek."
   ]
  },
  {
   "cell_type": "code",
   "execution_count": 8,
   "metadata": {},
   "outputs": [
    {
     "data": {
      "image/png": "[encoded data removed]",
      "text/plain": [
       "<Figure size 432x288 with 1 Axes>"
      ]
     },
     "metadata": {},
     "output_type": "display_data"
    }
   ],
   "source": [
    "sns.set_style(\"darkgrid\")\n",
    "\n",
    "# plot for every thread the speed\n",
    "for thread in timings:\n",
    "    x = [x[1] for x in timings[thread]]\n",
    "    y = [x[0] for x in timings[thread]]\n",
    "    plt.plot(x, y, label=thread)\n",
    "\n",
    "# add legend\n",
    "plt.legend(loc=\"upper left\")\n",
    "\n",
    "# add title and x, y labels\n",
    "plt.title(\"Snelheid threaded merge sort\")\n",
    "plt.xlabel(\"Lengte lijst ongesorteerde getallen\")\n",
    "plt.ylabel(\"Snelheid (sec)\")\n",
    "\n",
    "plt.show()"
   ]
  }
 ],
 "metadata": {
  "kernelspec": {
   "display_name": "Python 3",
   "language": "python",
   "name": "python3"
  },
  "language_info": {
   "codemirror_mode": {
    "name": "ipython",
    "version": 3
   },
   "file_extension": ".py",
   "mimetype": "text/x-python",
   "name": "python",
   "nbconvert_exporter": "python",
   "pygments_lexer": "ipython3",
   "version": "3.7.6"
  }
 },
 "nbformat": 4,
 "nbformat_minor": 4
}
