{
 "cells": [
  {
   "cell_type": "markdown",
   "metadata": {},
   "source": [
    "# Opdracht 3.4: Locks\n",
    "\n",
    "Er zijn verschillende manieren om race conditions te voorkomen. Eén daarvan is het gebruik van locks. In het voorbeeld hiervoor willen we feitelijk voorkomen dat het tweede proces (welke thread dat ook zou mogen zijn) de 'verkeerde' waarde van value uitleest, omdat het andere proces deze aan het aanpassen is. Het proces dat als eerste de waarde uitleest, zal een lock moeten leggen op value. (In andere talen wordt dit ook wel een Mutual Exclusion of mutex genoemd)."
   ]
  },
  {
   "cell_type": "code",
   "execution_count": 1,
   "metadata": {},
   "outputs": [],
   "source": [
    "import threading, logging, time\n",
    "import concurrent.futures\n",
    "\n",
    "class FakeDatabase:\n",
    "    def __init__(self):\n",
    "        self.value = 0\n",
    "        self._lock = threading.Lock()\n",
    "\n",
    "    def update(self, name):\n",
    "        logging.info(\"Thread %s: starting update\", name)\n",
    "        logging.info(\"Thread %s: waiting for a lock\", name)\n",
    "        \n",
    "        # lock for the thread\n",
    "        self._lock.acquire()\n",
    "        try:\n",
    "            logging.info(\"Thread %s: acquired a lock\", name)\n",
    "            local_copy = self.value\n",
    "            local_copy += 1\n",
    "            time.sleep(0.1)\n",
    "            self.value = local_copy\n",
    "        finally:\n",
    "            logging.info(\"Thread %s: released a lock\", name)\n",
    "            self._lock.release()\n",
    "        logging.info(\"Thread %s: finishing update\", name)"
   ]
  },
  {
   "cell_type": "code",
   "execution_count": 2,
   "metadata": {},
   "outputs": [
    {
     "name": "stderr",
     "output_type": "stream",
     "text": [
      "19:15:06: Testing update. Starting value is 0.\n",
      "19:15:06: Thread 0: starting update\n",
      "19:15:06: Thread 1: starting update\n",
      "19:15:06: Thread 0: waiting for a lock\n",
      "19:15:06: Thread 1: waiting for a lock\n",
      "19:15:06: Thread 0: acquired a lock\n",
      "19:15:06: Thread 0: released a lock\n",
      "19:15:06: Thread 0: finishing update\n",
      "19:15:06: Thread 1: acquired a lock\n",
      "19:15:07: Thread 1: released a lock\n",
      "19:15:07: Thread 1: finishing update\n",
      "19:15:07: Testing update. Ending value is 2.\n"
     ]
    }
   ],
   "source": [
    "if __name__ == \"__main__\":\n",
    "    format = \"%(asctime)s: %(message)s\"\n",
    "    logging.basicConfig(format=format, level=logging.INFO,\n",
    "                        datefmt=\"%H:%M:%S\")\n",
    "\n",
    "    database = FakeDatabase()\n",
    "    logging.info(\"Testing update. Starting value is %d.\", database.value)\n",
    "    with concurrent.futures.ThreadPoolExecutor(max_workers=2) as executor:\n",
    "        for index in range(2):\n",
    "            executor.submit(database.update, index)\n",
    "    logging.info(\"Testing update. Ending value is %d.\", database.value)"
   ]
  },
  {
   "cell_type": "markdown",
   "metadata": {},
   "source": [
    "Doordat er gebruik gemaakt is van $\\textbf{acquire()}$ en $\\textbf{release()}$ krijgt constant maar één Thread toegang tot de value, waarmee ook uiteindelijk de Race condition mee verholpen wordt."
   ]
  }
 ],
 "metadata": {
  "kernelspec": {
   "display_name": "Python 3",
   "language": "python",
   "name": "python3"
  },
  "language_info": {
   "codemirror_mode": {
    "name": "ipython",
    "version": 3
   },
   "file_extension": ".py",
   "mimetype": "text/x-python",
   "name": "python",
   "nbconvert_exporter": "python",
   "pygments_lexer": "ipython3",
   "version": "3.7.6"
  }
 },
 "nbformat": 4,
 "nbformat_minor": 4
}
