{
 "cells": [
  {
   "cell_type": "markdown",
   "metadata": {},
   "source": [
    "# Opdracht 1.5: Bucket Sort\n",
    "\n",
    "Hieronder is een implementatie geschreven van het Bucket Sort algoritme voor het sorteren van gehele getallen.  \n",
    "  \n",
    "Wat betreft complexiteit heeft dit algoritme een Big O complexiteit van $\\mathcal{O}(n)$. Dit komt mede tot stand omdat er constant maar één keer over een gehele array wordt gegaan. Wel moet worden meegenomen dat de buckets die gebouwd worden een niet uniforme lengte kunnen hebben waardoor de complexiteit eventueel als een vorm van $\\mathcal{O}(n + k)$ geschreven zou kunnen worden. Echter zal dan het element die het hevigst meeweegt gekozen worden waardoor de complexiteit uiteindelijk geschreven kan worden als $\\mathcal{O}(n)$.  \n",
    "  \n",
    "Voor dit algoritme maakt het ook niet uit of de array die gesorteerd moet worden al gesorteerd is of omgedraaid is. Het algoritme zal constant de array opdelen in buckets volgens de grootte van de veelvoud van 10 en hem opnieuw in elkaar zetten.\n"
   ]
  },
  {
   "cell_type": "code",
   "execution_count": 1,
   "metadata": {},
   "outputs": [],
   "source": [
    "from typing import List\n",
    "import numpy as np\n",
    "import time"
   ]
  },
  {
   "cell_type": "code",
   "execution_count": 2,
   "metadata": {},
   "outputs": [],
   "source": [
    "def distribution_pass(data, j):\n",
    "    \"\"\"Place every value in a bucket\"\"\"\n",
    "    # build the buckets\n",
    "    buckets = {x:[] for x in range(10)}\n",
    "\n",
    "    # put array elements in different buckets\n",
    "    for x in data:\n",
    "        index_b = int((x / j)) % 10\n",
    "        buckets[index_b].append(x)\n",
    "    \n",
    "    # return the buckets\n",
    "    return buckets\n",
    "\n",
    "        \n",
    "def gathering_pass(buckets):\n",
    "    \"\"\"Gathers all buckets and copies them into the original array\"\"\"\n",
    "    # empty the array\n",
    "    result_data = []\n",
    "\n",
    "    # gather and append all buckets\n",
    "    for key in buckets:\n",
    "        result_data += buckets[key]\n",
    "    \n",
    "    return result_data\n",
    "\n",
    "            \n",
    "def bucket_sort(data: List[int]) -> List[int]:\n",
    "    \"\"\"Sorts the given array via bucket_sort\"\"\"\n",
    "\n",
    "    if len(data) == 0:\n",
    "        # the given array is empty\n",
    "        return []\n",
    "    \n",
    "    # get the length of the max digit\n",
    "    max_length = len(str(max(map(abs, data))))\n",
    "\n",
    "    # filter the positive and negative data\n",
    "    pos_array = list(filter(lambda x: x >= 0, data))\n",
    "    neg_array = list(filter(lambda x: x < 0, data))\n",
    "    \n",
    "    # turn the negative data into positives\n",
    "    neg_array = list(map(abs, neg_array))\n",
    "\n",
    "    # loop over the length of the max digit and repeat the steps of bucket sort\n",
    "    for j in [10**x for x in range(0, max_length)]:\n",
    "        \n",
    "        # steps for positive array\n",
    "        pos_array = gathering_pass(distribution_pass(pos_array, j))\n",
    "        \n",
    "        # steps for negative array\n",
    "        neg_array = gathering_pass(distribution_pass(neg_array, j))\n",
    "    \n",
    "    # turn the negative array back to negatives and reverse it\n",
    "    neg_array = list(map(lambda x: x * -1, neg_array))[::-1]\n",
    "    \n",
    "    # return the concatenated sorted lists\n",
    "    return neg_array + pos_array"
   ]
  },
  {
   "cell_type": "markdown",
   "metadata": {},
   "source": [
    "Hieronder worden de tijden geplot van bucket sort bij een variabele hoeveelheid meetwaarden met random en gesorteerde lijsten."
   ]
  },
  {
   "cell_type": "code",
   "execution_count": 3,
   "metadata": {},
   "outputs": [
    {
     "name": "stdout",
     "output_type": "stream",
     "text": [
      "bucket sort function with 1000 took 0.010 sec\n",
      "bucket sort function with 10000 took 0.089 sec\n",
      "bucket sort function with 30000 took 0.338 sec\n"
     ]
    }
   ],
   "source": [
    "n = [1000, 10000, 30000]\n",
    "\n",
    "for x in n:\n",
    "    time1 = time.time()\n",
    "    bucket_sort(np.random.randint(low=0, high=x+1, size=x))\n",
    "    time2 = time.time()\n",
    "    print('{:s} function with {} took {:.3f} sec'.format('bucket sort', x, (time2-time1)))"
   ]
  },
  {
   "cell_type": "code",
   "execution_count": 4,
   "metadata": {},
   "outputs": [
    {
     "name": "stdout",
     "output_type": "stream",
     "text": [
      "bucket sort function with 30000 (sorted) took 0.290 sec\n",
      "bucket sort function with 30000 (reversed) took 0.272 sec\n"
     ]
    }
   ],
   "source": [
    "algorithm = 'bucket sort'\n",
    "n = 30000\n",
    "\n",
    "time1 = time.time()\n",
    "bucket_sort(np.arange(0, n+1, 1)).sort()\n",
    "time2 = time.time()\n",
    "print('{:s} function with {} (sorted) took {:.3f} sec'.format(algorithm, n, (time2-time1)))\n",
    "\n",
    "time1 = time.time()\n",
    "bucket_sort(np.arange(n, -1, -1)).sort()\n",
    "time2 = time.time()\n",
    "print('{:s} function with {} (reversed) took {:.3f} sec'.format(algorithm, n, (time2-time1)))"
   ]
  }
 ],
 "metadata": {
  "kernelspec": {
   "display_name": "Python 3",
   "language": "python",
   "name": "python3"
  },
  "language_info": {
   "codemirror_mode": {
    "name": "ipython",
    "version": 3
   },
   "file_extension": ".py",
   "mimetype": "text/x-python",
   "name": "python",
   "nbconvert_exporter": "python",
   "pygments_lexer": "ipython3",
   "version": "3.7.6"
  }
 },
 "nbformat": 4,
 "nbformat_minor": 4
}
