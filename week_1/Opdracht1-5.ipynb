{
 "cells": [
  {
   "cell_type": "markdown",
   "metadata": {},
   "source": [
    "# Opdracht 1.5: Bucket Sort\n",
    "\n",
    "Hieronder is een implementatie geschreven van het Bucket Sort algoritme voor het sorteren van gehele getallen.  \n",
    "Dit algoritme heeft een Big O complexity van $\\mathcal{O}(n^2)$."
   ]
  },
  {
   "cell_type": "code",
   "execution_count": 1,
   "metadata": {},
   "outputs": [],
   "source": [
    "from typing import List\n",
    "import numpy as np\n",
    "import time"
   ]
  },
  {
   "cell_type": "code",
   "execution_count": 2,
   "metadata": {},
   "outputs": [],
   "source": [
    "class BucketSort:\n",
    "    def __init__(self, data: List[int]):\n",
    "        self.data = data\n",
    "    \n",
    "    def distribution_pass(self, j):\n",
    "        \"\"\"Place every value in a bucket\"\"\"\n",
    "        # build the buckets\n",
    "        self.buckets = {x:[] for x in range(0,10)}\n",
    "        \n",
    "        # put array elements in different buckets\n",
    "        for x in self.data:\n",
    "            index_b = int((x / j)) % 10\n",
    "            self.buckets[index_b].append(x)\n",
    "        \n",
    "        \n",
    "    def gathering_pass(self):\n",
    "        \"\"\"Gathers all buckets and copies them into the original array\"\"\"\n",
    "        # empty the array\n",
    "        self.data = []\n",
    "        \n",
    "        # gather and append all buckets\n",
    "        for key in self.buckets:\n",
    "            for x in self.buckets[key]:\n",
    "                self.data.append(x)\n",
    "    \n",
    "    def sort(self):\n",
    "        \"\"\"Sorts the given array\"\"\"\n",
    "        # get the length of the max digit\n",
    "        max_length = len(str(max(self.data)))\n",
    "        \n",
    "        # loop over the length of the max digit and repeat the steps\n",
    "        for j in [10**x for x in range(0, max_length)]:\n",
    "            self.distribution_pass(j)\n",
    "            self.gathering_pass()"
   ]
  },
  {
   "cell_type": "markdown",
   "metadata": {},
   "source": [
    "Hieronder worden de tijden geplot van bucket sort bij een variabele hoeveelheid meetwaarden met random en gesorteerde lijsten."
   ]
  },
  {
   "cell_type": "code",
   "execution_count": 3,
   "metadata": {},
   "outputs": [
    {
     "name": "stdout",
     "output_type": "stream",
     "text": [
      "bucket sort function with 1000 took 0.006 sec\n",
      "bucket sort function with 10000 took 0.041 sec\n",
      "bucket sort function with 30000 took 0.121 sec\n"
     ]
    }
   ],
   "source": [
    "n = [1000, 10000, 30000]\n",
    "\n",
    "for x in n:\n",
    "    time1 = time.time()\n",
    "    data = np.random.randint(low=0, high=x+1, size=x)\n",
    "    buc = BucketSort(data)\n",
    "    buc.sort()\n",
    "    time2 = time.time()\n",
    "    print('{:s} function with {} took {:.3f} sec'.format('bucket sort', x, (time2-time1)))"
   ]
  },
  {
   "cell_type": "code",
   "execution_count": 4,
   "metadata": {},
   "outputs": [
    {
     "name": "stdout",
     "output_type": "stream",
     "text": [
      "bucket sort function with 30000 (sorted) took 0.133 sec\n",
      "bucket sort function with 30000 (reversed) took 0.096 sec\n"
     ]
    }
   ],
   "source": [
    "algorithm = 'bucket sort'\n",
    "n = 30000\n",
    "\n",
    "time1 = time.time()\n",
    "BucketSort(np.arange(0, n+1, 1)).sort()\n",
    "time2 = time.time()\n",
    "print('{:s} function with {} (sorted) took {:.3f} sec'.format(algorithm, n, (time2-time1)))\n",
    "\n",
    "time1 = time.time()\n",
    "BucketSort(np.arange(n, -1, -1)).sort()\n",
    "time2 = time.time()\n",
    "print('{:s} function with {} (reversed) took {:.3f} sec'.format(algorithm, n, (time2-time1)))"
   ]
  }
 ],
 "metadata": {
  "kernelspec": {
   "display_name": "Python 3",
   "language": "python",
   "name": "python3"
  },
  "language_info": {
   "codemirror_mode": {
    "name": "ipython",
    "version": 3
   },
   "file_extension": ".py",
   "mimetype": "text/x-python",
   "name": "python",
   "nbconvert_exporter": "python",
   "pygments_lexer": "ipython3",
   "version": "3.7.6"
  }
 },
 "nbformat": 4,
 "nbformat_minor": 4
}
