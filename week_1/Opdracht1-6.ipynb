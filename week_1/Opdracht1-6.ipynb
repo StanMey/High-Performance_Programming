{
 "cells": [
  {
   "cell_type": "markdown",
   "metadata": {},
   "source": [
    "# Opdracht 1.6: Quick Sort\n",
    "\n",
    "Hieronder is een implementatie geschreven van een recursieve sorteermethode genaamd Quick Sort.  \n",
    "Dit algoritme heeft een Big O complexity van $\\mathcal{O}(n^2)$."
   ]
  },
  {
   "cell_type": "code",
   "execution_count": 1,
   "metadata": {},
   "outputs": [],
   "source": [
    "import time\n",
    "import numpy as np"
   ]
  },
  {
   "cell_type": "code",
   "execution_count": 2,
   "metadata": {},
   "outputs": [],
   "source": [
    "def quick_sort(arr):\n",
    "    \"\"\"Sort the array with the quick sort method\"\"\"\n",
    "    if len(arr) == 0:\n",
    "        return arr\n",
    "    elif len(arr) == 1:\n",
    "        return arr\n",
    "    else:\n",
    "        \n",
    "        # chose the pivot (first element)\n",
    "        pivot = arr[0]\n",
    "        \n",
    "        # get the two sorted lists\n",
    "        great, small = partition(arr[1:], pivot)\n",
    "        \n",
    "        # recurse on the arrays with the pivot in between\n",
    "        return quick_sort(small) + [pivot] + quick_sort(great)\n",
    "        \n",
    "\n",
    "def partition(arr, pivot):\n",
    "    \"\"\"Splits the array in values greater than and smaller than the pivot\"\"\"\n",
    "    greater = []\n",
    "    smaller = []\n",
    "    \n",
    "    for x in arr:\n",
    "        if x >= pivot:\n",
    "            greater.append(x)\n",
    "        else:\n",
    "            smaller.append(x)\n",
    "        \n",
    "    return greater, smaller"
   ]
  },
  {
   "cell_type": "markdown",
   "metadata": {},
   "source": [
    "Hieronder worden de tijden geplot van bucket sort bij een variabele hoeveelheid meetwaarden met random en gesorteerde lijsten."
   ]
  },
  {
   "cell_type": "code",
   "execution_count": 3,
   "metadata": {},
   "outputs": [
    {
     "name": "stdout",
     "output_type": "stream",
     "text": [
      "quick sort function with 1000 took 0.002 sec\n",
      "quick sort function with 10000 took 0.056 sec\n",
      "quick sort function with 30000 took 0.169 sec\n"
     ]
    }
   ],
   "source": [
    "n = [1000, 10000, 30000]\n",
    "\n",
    "for x in n:\n",
    "    time1 = time.time()\n",
    "    quick_sort(np.random.randint(low=0, high=x+1, size=x))\n",
    "    time2 = time.time()\n",
    "    print('{:s} function with {} took {:.3f} sec'.format('quick sort', x, (time2-time1)))"
   ]
  },
  {
   "cell_type": "code",
   "execution_count": null,
   "metadata": {},
   "outputs": [],
   "source": [
    "algorithm = 'quick sort'\n",
    "n = 30000\n",
    "\n",
    "time1 = time.time()\n",
    "quick_sort(np.arange(0, n+1, 1))\n",
    "time2 = time.time()\n",
    "print('{:s} function with {} (sorted) took {:.3f} sec'.format(algorithm, n, (time2-time1)))\n",
    "\n",
    "time1 = time.time()\n",
    "quick_sort(np.arange(n, -1, -1))\n",
    "time2 = time.time()\n",
    "print('{:s} function with {} (reversed) took {:.3f} sec'.format(algorithm, n, (time2-time1)))"
   ]
  }
 ],
 "metadata": {
  "kernelspec": {
   "display_name": "Python 3",
   "language": "python",
   "name": "python3"
  },
  "language_info": {
   "codemirror_mode": {
    "name": "ipython",
    "version": 3
   },
   "file_extension": ".py",
   "mimetype": "text/x-python",
   "name": "python",
   "nbconvert_exporter": "python",
   "pygments_lexer": "ipython3",
   "version": "3.7.6"
  }
 },
 "nbformat": 4,
 "nbformat_minor": 4
}
