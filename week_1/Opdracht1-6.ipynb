{
 "cells": [
  {
   "cell_type": "markdown",
   "metadata": {},
   "source": [
    "# Opdracht 1.6: Quick Sort\n",
    "\n",
    "Hieronder is een implementatie geschreven van een recursieve sorteermethode genaamd Quick Sort.  \n",
    "Dit algoritme heeft een Big O complexity van $\\mathcal{O}(n^2)$."
   ]
  },
  {
   "cell_type": "code",
   "execution_count": 1,
   "metadata": {},
   "outputs": [],
   "source": [
    "import time\n",
    "import numpy as np"
   ]
  },
  {
   "cell_type": "code",
   "execution_count": 2,
   "metadata": {},
   "outputs": [],
   "source": [
    "def quick_sort(arr, low, high):\n",
    "    \"\"\"Recursively arrange the around the number at the partition index\"\"\"\n",
    "    \n",
    "    if (low < high):\n",
    "        \n",
    "        part = partition(arr, low, high)\n",
    "        \n",
    "        quick_sort(arr, low, part-1)\n",
    "        quick_sort(arr, part+1, high)\n",
    "\n",
    "        \n",
    "def partition(arr, low, high):\n",
    "    \"\"\"Partition the numbers\"\"\"\n",
    "    i = low-1\n",
    "    pivot = arr[high]\n",
    "    \n",
    "    for j in range(low , high): \n",
    "  \n",
    "        # If current element is smaller than the pivot \n",
    "        if   arr[j] < pivot: \n",
    "          \n",
    "            # increment index of smaller element \n",
    "            i = i+1 \n",
    "            arr[i],arr[j] = arr[j],arr[i] \n",
    "  \n",
    "    arr[i+1],arr[high] = arr[high],arr[i+1] \n",
    "    return i+1\n",
    "    "
   ]
  },
  {
   "cell_type": "code",
   "execution_count": 3,
   "metadata": {},
   "outputs": [
    {
     "data": {
      "text/plain": [
       "[2, 4, 4, 5, 7, 9, 24, 46]"
      ]
     },
     "execution_count": 3,
     "metadata": {},
     "output_type": "execute_result"
    }
   ],
   "source": [
    "n = [5, 4, 7, 2, 4, 9, 46, 24]\n",
    "quick_sort(n, 0, len(n)-1)\n",
    "n"
   ]
  },
  {
   "cell_type": "markdown",
   "metadata": {},
   "source": [
    "Hieronder worden de tijden geplot van bucket sort bij een variabele hoeveelheid meetwaarden met random en gesorteerde lijsten."
   ]
  },
  {
   "cell_type": "code",
   "execution_count": 4,
   "metadata": {},
   "outputs": [
    {
     "name": "stdout",
     "output_type": "stream",
     "text": [
      "quick sort function with 1000 took 0.006 sec\n",
      "quick sort function with 10000 took 0.069 sec\n",
      "quick sort function with 30000 took 0.249 sec\n"
     ]
    }
   ],
   "source": [
    "n = [1000, 10000, 30000]\n",
    "\n",
    "for x in n:\n",
    "    time1 = time.time()\n",
    "    data = np.random.randint(low=0, high=x+1, size=x)\n",
    "    quick_sort(data, 0, len(data)-1)\n",
    "    time2 = time.time()\n",
    "    print('{:s} function with {} took {:.3f} sec'.format('quick sort', x, (time2-time1)))"
   ]
  },
  {
   "cell_type": "code",
   "execution_count": null,
   "metadata": {},
   "outputs": [],
   "source": [
    "algorithm = 'quick sort'\n",
    "n = 30000\n",
    "\n",
    "time1 = time.time()\n",
    "data = np.arange(0, n+1, 1)\n",
    "quick_sort(data, 0, len(data)-1)\n",
    "time2 = time.time()\n",
    "print('{:s} function with {} (sorted) took {:.3f} sec'.format(algorithm, n, (time2-time1)))\n",
    "\n",
    "time1 = time.time()\n",
    "data = np.arange(n, -1, -1)\n",
    "quick_sort(data, 0, len(data)-1)\n",
    "time2 = time.time()\n",
    "print('{:s} function with {} (reversed) took {:.3f} sec'.format(algorithm, n, (time2-time1)))"
   ]
  }
 ],
 "metadata": {
  "kernelspec": {
   "display_name": "Python 3",
   "language": "python",
   "name": "python3"
  },
  "language_info": {
   "codemirror_mode": {
    "name": "ipython",
    "version": 3
   },
   "file_extension": ".py",
   "mimetype": "text/x-python",
   "name": "python",
   "nbconvert_exporter": "python",
   "pygments_lexer": "ipython3",
   "version": "3.7.6"
  }
 },
 "nbformat": 4,
 "nbformat_minor": 4
}
