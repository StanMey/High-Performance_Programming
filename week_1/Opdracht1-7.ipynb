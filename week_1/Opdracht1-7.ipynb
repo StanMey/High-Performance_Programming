{
 "cells": [
  {
   "cell_type": "markdown",
   "metadata": {},
   "source": [
    "# Opdracht 1.7: Bepalen Big O van diverse algoritmes\n",
    "Bepaal de Big O voor elk van de volgende algoritmen.  \n",
    "\n",
    "**1. Het ophalen van een item in een Python list door middel van zijn index.**  \n",
    "Het ophalen van een item in een Python list op basis van de index gaat direct dus de complexiteit is:  \n",
    "$$ \\mathcal{O}(1) $$\n",
    "\n",
    "**2. Het op de juiste plek invoegen van een waarde in een gesorteerde Python lijst.**  \n",
    "Bij het invoegen van een waarde in een gesorteerde lijst zal je in het slechtste geval door de hele array heen moeten lopen voordat je het item op de juiste plek kan invoegen.\n",
    "$$ \\mathcal{O}(n) $$\n",
    "\n",
    "**3. Het Shell sorteren van een array.**  \n",
    "Shell sort verdeelt de data in kleine stukken en sorteert de stukken door middel van insertion sort. Hierna worden de stukken weer achter elkaar gezet waarna shell sort opnieuw begint, maar nu met grotere stukken. Op het einde is er nog maar 1 stuk en als die volledig gesorteerd is is alles klaar. Aangezien Shell sort uitgaat van insertion sort moet dit ook meegenomen worden in de complexiteit wat uiteindelijk leidt tot een complexiteit van:  \n",
    "$$ \\mathcal{O}(n^2) $$\n",
    "\n",
    "**4. Het Bubble sorteren van een array.**  \n",
    "Bubble sort is een sorteeralgoritme waarbij er door een array wordt gelopen. Tijdens het doorlopen wordt elk element met het volgende vergeleken. Wanneer het element op plaats n groter is dan op plaats n + 1 worden de twee elementen omgewisseld waarna het algoritme een stapje opschuift. Uiteindelijk zullen de grotere elementen 'bovendrijven'. De complexiteit is als volgt:  \n",
    "$$ \\mathcal{O}(n^2) $$\n",
    "\n",
    "**5. Het oplossen van de Torens van Hanoi voor n schijven.**  \n",
    "$$ \\mathcal{O}(2^n) $$\n",
    "\n",
    "**6. Het vinden van alle permutaties (unieke volgordes) voor een array van n items.**  \n",
    "Aangezien voor het vinden van een permutatie alle beschikbare opties afgelopen moeten worden zal het algoritme met een complexiteit van factorial draaien. Dit aangezien wanneer een bepaald item gekozen is deze niet mag terugkomen in de andere permutaties. Dit geeft dus uiteindelijk:  \n",
    "$$ \\mathcal{O}(n!) $$"
   ]
  }
 ],
 "metadata": {
  "kernelspec": {
   "display_name": "Python 3",
   "language": "python",
   "name": "python3"
  },
  "language_info": {
   "codemirror_mode": {
    "name": "ipython",
    "version": 3
   },
   "file_extension": ".py",
   "mimetype": "text/x-python",
   "name": "python",
   "nbconvert_exporter": "python",
   "pygments_lexer": "ipython3",
   "version": "3.7.6"
  }
 },
 "nbformat": 4,
 "nbformat_minor": 4
}
