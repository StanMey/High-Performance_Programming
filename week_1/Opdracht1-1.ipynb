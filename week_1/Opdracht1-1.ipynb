{
 "cells": [
  {
   "cell_type": "markdown",
   "metadata": {
    "collapsed": true,
    "pycharm": {
     "is_executing": false
    }
   },
   "source": [
    "# Opdracht 1.1 Complexiteit van Sorteren\n"
   ]
  },
  {
   "cell_type": "code",
   "execution_count": 1,
   "metadata": {},
   "outputs": [],
   "source": [
    "from typing import List\n",
    "import numpy as np\n",
    "import random as rd\n",
    "import time"
   ]
  },
  {
   "cell_type": "markdown",
   "metadata": {},
   "source": [
    "## Selection sort"
   ]
  },
  {
   "cell_type": "code",
   "execution_count": 2,
   "metadata": {},
   "outputs": [],
   "source": [
    "# iteratief\n",
    "def selection_sort(data: List[int]) -> None:\n",
    "    \"\"\"Sort an array using selection sort\"\"\"\n",
    "    # loop over len(data) -1 elements\n",
    "    for index1 in range(len(data)-1):\n",
    "        smallest = index1 # first index of remaining array\n",
    "\n",
    "        # loop to find index of smallest element\n",
    "        for index2 in range(index1 + 1, len(data)):\n",
    "            if data[index2] < data[smallest]:\n",
    "                smallest = index2\n",
    "\n",
    "        # swap smallest element into position\n",
    "        data[smallest], data[index1] = data[index1], data[smallest]\n",
    "\n",
    "# recursive\n",
    "def recursive_selection_sort(data: List[int]) -> None:\n",
    "    # Lists with less than one element are sorted\n",
    "    if len(data) <= 1:\n",
    "        return data\n",
    "    else:\n",
    "        smallest = min(data)    # find the smallest element in the list\n",
    "        data.remove(smallest)   # remove from the list\n",
    "        return [smallest] + recursive_selection_sort(data) # put on front of to be sorted remainder"
   ]
  },
  {
   "cell_type": "markdown",
   "metadata": {},
   "source": [
    "Hieronder worden de tijden geplot van selection sort bij een variabele hoeveelheid meetwaarden met random en gesorteerde lijsten."
   ]
  },
  {
   "cell_type": "code",
   "execution_count": 3,
   "metadata": {},
   "outputs": [
    {
     "name": "stdout",
     "output_type": "stream",
     "text": [
      "selection sort function with 1000 took 0.175 sec\n",
      "selection sort function with 10000 took 14.843 sec\n",
      "selection sort function with 30000 took 144.463 sec\n"
     ]
    }
   ],
   "source": [
    "n = [1000, 10000, 30000]\n",
    "\n",
    "for x in n:\n",
    "    time1 = time.time()\n",
    "    selection_sort(np.random.randint(low=0, high=x+1, size=x))\n",
    "    time2 = time.time()\n",
    "    print('{:s} function with {} took {:.3f} sec'.format('selection sort', x, (time2-time1)))"
   ]
  },
  {
   "cell_type": "code",
   "execution_count": 4,
   "metadata": {},
   "outputs": [
    {
     "name": "stdout",
     "output_type": "stream",
     "text": [
      "selection sort function with 30000 (sorted) took 146.012 sec\n",
      "selection sort function with 30000 (reversed) took 146.526 sec\n"
     ]
    }
   ],
   "source": [
    "algorithm = 'selection sort'\n",
    "n = 30000\n",
    "\n",
    "time1 = time.time()\n",
    "selection_sort(np.arange(0, n+1, 1))\n",
    "time2 = time.time()\n",
    "print('{:s} function with {} (sorted) took {:.3f} sec'.format(algorithm, n, (time2-time1)))\n",
    "\n",
    "time1 = time.time()\n",
    "selection_sort(np.arange(n, -1, -1))\n",
    "time2 = time.time()\n",
    "print('{:s} function with {} (reversed) took {:.3f} sec'.format(algorithm, n, (time2-time1)))"
   ]
  },
  {
   "cell_type": "markdown",
   "metadata": {},
   "source": [
    "## Insertion Sort"
   ]
  },
  {
   "cell_type": "code",
   "execution_count": 5,
   "metadata": {},
   "outputs": [],
   "source": [
    "def insertion_sort(data: List[int]) -> None:\n",
    "    \"\"\"Sorting an array in place using insertion sort.\"\"\"\n",
    "    # loop over len(data) - 1 elements\n",
    "    for next in range(1, len(data)):\n",
    "        insert = data[next] # value to insert\n",
    "        move_item = next    # location to place element\n",
    "\n",
    "        # search for place to put current element\n",
    "        while move_item > 0 and data[move_item - 1] > insert:\n",
    "            # shift element right one slot\n",
    "            data[move_item] = data[move_item - 1]\n",
    "            move_item -= 1\n",
    "\n",
    "        data[move_item] = insert # place inserted element\n",
    "\n",
    "\n",
    "def recursive_insertion_sort(toSort: List[int], sorted: List[int] = []) -> List[int]:\n",
    "    \"\"\"Recursive implementation of insertion sort\"\"\"\n",
    "    if len(toSort) == 0: # empty lists are sorted\n",
    "        return sorted\n",
    "    else:\n",
    "        head, *tail = toSort\n",
    "        sorted = recursive_insertion(head, sorted) # insert the head into the sorted list\n",
    "        return recursive_insertion_sort(tail, sorted) # recursive call to sort the remainder\n",
    "\n",
    "\n",
    "def recursive_insertion(element: int, data: List[int]) -> List[int]:\n",
    "    \"\"\"Assistant function to recursive insertion sort; recursively insert into a list\"\"\"\n",
    "    if len(data) == 0: # if the list is empty, the element should be place there anyway\n",
    "        return [element]\n",
    "    else:\n",
    "        head, *tail = data\n",
    "        if element < head: # when the element is smaller than the head of the insertion list\n",
    "            return [element, head] + tail # place it on the front\n",
    "        else:\n",
    "            return [head] + recursive_insertion(element, tail) # else, keep the head separate, and recursively insert into the tail"
   ]
  },
  {
   "cell_type": "markdown",
   "metadata": {},
   "source": [
    "Hieronder worden de tijden geplot van insertion sort bij een variabele hoeveelheid meetwaarden met random en gesorteerde lijsten."
   ]
  },
  {
   "cell_type": "code",
   "execution_count": 6,
   "metadata": {},
   "outputs": [
    {
     "name": "stdout",
     "output_type": "stream",
     "text": [
      "insertion sort function with 1000 took 0.144 sec\n",
      "insertion sort function with 10000 took 15.094 sec\n",
      "insertion sort function with 30000 took 116.229 sec\n"
     ]
    }
   ],
   "source": [
    "n = [1000, 10000, 30000]\n",
    "\n",
    "for x in n:\n",
    "    time1 = time.time()\n",
    "    insertion_sort(np.random.randint(low=0, high=x+1, size=x))\n",
    "    time2 = time.time()\n",
    "    print('{:s} function with {} took {:.3f} sec'.format('insertion sort', x, (time2-time1)))"
   ]
  },
  {
   "cell_type": "code",
   "execution_count": 7,
   "metadata": {},
   "outputs": [
    {
     "name": "stdout",
     "output_type": "stream",
     "text": [
      "insertion sort function with 30000 (sorted) took 0.017 sec\n",
      "insertion sort function with 30000 (reversed) took 227.840 sec\n"
     ]
    }
   ],
   "source": [
    "algorithm = 'insertion sort'\n",
    "n = 30000\n",
    "\n",
    "time1 = time.time()\n",
    "insertion_sort(np.arange(0, n+1, 1))\n",
    "time2 = time.time()\n",
    "print('{:s} function with {} (sorted) took {:.3f} sec'.format(algorithm, n, (time2-time1)))\n",
    "\n",
    "time1 = time.time()\n",
    "insertion_sort(np.arange(n, -1, -1))\n",
    "time2 = time.time()\n",
    "print('{:s} function with {} (reversed) took {:.3f} sec'.format(algorithm, n, (time2-time1)))"
   ]
  },
  {
   "cell_type": "markdown",
   "metadata": {},
   "source": [
    "## Merge Sort"
   ]
  },
  {
   "cell_type": "code",
   "execution_count": 8,
   "metadata": {},
   "outputs": [],
   "source": [
    "# Python program for implementation of MergeSort \n",
    "def merge_sort_other(arr): \n",
    "    if len(arr) >1: \n",
    "        mid = len(arr)//2 #Finding the mid of the array \n",
    "        L = arr[:mid] # Dividing the array elements  \n",
    "        R = arr[mid:] # into 2 halves \n",
    "  \n",
    "        merge_sort_other(L) # Sorting the first half \n",
    "        merge_sort_other(R) # Sorting the second half \n",
    "  \n",
    "        i = j = k = 0\n",
    "          \n",
    "        # Copy data to temp arrays L[] and R[] \n",
    "        while i < len(L) and j < len(R): \n",
    "            if L[i] < R[j]: \n",
    "                arr[k] = L[i] \n",
    "                i+=1\n",
    "            else: \n",
    "                arr[k] = R[j] \n",
    "                j+=1\n",
    "            k+=1\n",
    "          \n",
    "        # Checking if any element was left \n",
    "        while i < len(L): \n",
    "            arr[k] = L[i] \n",
    "            i+=1\n",
    "            k+=1\n",
    "          \n",
    "        while j < len(R): \n",
    "            arr[k] = R[j] \n",
    "            j+=1\n",
    "            k+=1"
   ]
  },
  {
   "cell_type": "code",
   "execution_count": 9,
   "metadata": {},
   "outputs": [],
   "source": [
    "def merge_sort(data: List[int]) -> None:\n",
    "    merge_sort2(data, 0, len(data)-1)\n",
    "\n",
    "def merge_sort2(data: List[int], low: int, high: int) -> None:\n",
    "    \"\"\"Split data, sort subarrays and merge them into sorted array.\"\"\"\n",
    "    # test base case size of array equals 1\n",
    "    if (high - low) >= 1: # if not base case\n",
    "        middle1 = (low + high) // 2 # calculate middle of the array\n",
    "        middle2 = middle1 + 1 # calculate next element over\n",
    "\n",
    "        # split array in half then sort each half (recursive calls)\n",
    "        merge_sort2(data, low, middle1) # first half of the array\n",
    "        merge_sort2(data, middle2, high) # second half of the array\n",
    "\n",
    "        # merge two sorted arrays after split calls return\n",
    "        merge(data, low, middle1, middle2, high)\n",
    "\n",
    "# merge two sorted subarrays into one sorted subarray\n",
    "def merge(data: List[int], left: int, middle1: int, middle2: int, right: int) -> None:\n",
    "    left_index = left # index into left subarray\n",
    "    right_index = middle2 # index into right subarray\n",
    "    combined_index = left # index into temporary working array\n",
    "    merged = [0] * len(data) # working array\n",
    "\n",
    "    # merge arrays until reaching end of either\n",
    "    while left_index <= middle1 and right_index < right:\n",
    "        # place smaller of two current elements into result\n",
    "        # and move to next space in arrays\n",
    "        if data[left_index] <= data[right_index]:\n",
    "            merged[combined_index] = data[left_index]\n",
    "            combined_index += 1\n",
    "            left_index += 1\n",
    "        else:\n",
    "            merged[combined_index] = data[right_index]\n",
    "            combined_index += 1\n",
    "            right_index += 1\n",
    "\n",
    "    # if left array is empty\n",
    "    if left_index == middle2: # if True, copy in rest of right array\n",
    "        merged[combined_index:right + 1] = data[right_index:right + 1]\n",
    "    else: # right array is empty, copy in rest of left array\n",
    "        merged[combined_index:right + 1] = data[left_index: middle1 + 1]\n",
    "\n",
    "    data[left:right + 1] = merged[left:right + 1] # copy back to data\n",
    "\n",
    "\n",
    "def merge_arrays(array1: List[int], array2: List[int]) -> List[int]:\n",
    "    \"\"\"Recursively merge two arrays into one sorted array\"\"\"\n",
    "    if len(array1) == len(array2) == 0: # done when both arrays are empty\n",
    "        return []\n",
    "    else:\n",
    "        if len(array1) == 0: # if either array is empty\n",
    "            head, *tail = array2\n",
    "            return [head] + merge_arrays(array1, tail) # merge the remainder of the non-empty list\n",
    "        elif len(array2) == 0: # idem for the other array\n",
    "            head, *tail = array1\n",
    "            return [head] + merge_arrays(tail, array2)\n",
    "        else: # when both still have elements\n",
    "            head1, *tail1 = array1\n",
    "            head2, *tail2 = array2\n",
    "            if head1 < head2: # select the smallest\n",
    "                return [head1] + merge_arrays(tail1, array2) # and merge with the remainder\n",
    "            else:\n",
    "                return [head2] + merge_arrays(array1, tail2) # idem for when array 2 had the smaller element\n",
    "\n",
    "\n",
    "def recursive_merge_sort(data: List[int]) -> List[int]:\n",
    "    \"\"\"Recursive merge sort implementation for sorting arrays\"\"\"\n",
    "    if len(data) == 1: # arrays with 1 element are sorted\n",
    "        return data\n",
    "    else:\n",
    "        middle = int(len(data)/2) # find the middle (round down if len(data) is odd)\n",
    "        first, second = data[:middle], data[middle:] # split the list in half\n",
    "        return merge_arrays(recursive_merge_sort(first), recursive_merge_sort(second)) # merge_sort both arrays, and merge them into the result"
   ]
  },
  {
   "cell_type": "markdown",
   "metadata": {},
   "source": [
    "Hieronder worden de tijden geplot van merge sort bij een variabele hoeveelheid meetwaarden met random en gesorteerde lijsten."
   ]
  },
  {
   "cell_type": "code",
   "execution_count": 10,
   "metadata": {},
   "outputs": [
    {
     "name": "stdout",
     "output_type": "stream",
     "text": [
      "merge sort function with 1000 took 0.013 sec\n",
      "merge sort function with 10000 took 0.427 sec\n",
      "merge sort function with 30000 took 3.540 sec\n"
     ]
    }
   ],
   "source": [
    "n = [1000, 10000, 30000]\n",
    "\n",
    "for x in n:\n",
    "    time1 = time.time()\n",
    "    merge_sort([rd.randint(0, x) for x in range(x+1)])\n",
    "    time2 = time.time()\n",
    "    print('{:s} function with {} took {:.3f} sec'.format('merge sort', x, (time2-time1)))"
   ]
  },
  {
   "cell_type": "code",
   "execution_count": 11,
   "metadata": {},
   "outputs": [
    {
     "name": "stdout",
     "output_type": "stream",
     "text": [
      "merge sort function with 30000 (sorted) took 3.440 sec\n",
      "merge sort function with 30000 (reversed) took 3.540 sec\n"
     ]
    }
   ],
   "source": [
    "algorithm = 'merge sort'\n",
    "n = 30000\n",
    "\n",
    "time1 = time.time()\n",
    "merge_sort([x for x in range(0, n+1, 1)])\n",
    "time2 = time.time()\n",
    "print('{:s} function with {} (sorted) took {:.3f} sec'.format(algorithm, n, (time2-time1)))\n",
    "\n",
    "time1 = time.time()\n",
    "merge_sort([x for x in range(n, -1, -1)])\n",
    "time2 = time.time()\n",
    "print('{:s} function with {} (reversed) took {:.3f} sec'.format(algorithm, n, (time2-time1)))"
   ]
  },
  {
   "cell_type": "markdown",
   "metadata": {},
   "source": [
    "### opdracht 1\n",
    "Maak een tabel met de meetwaarden van de volgende tests:\n",
    "    - Genereer random lijsten van lengtes 1'000, 10'000 en 30'000 items.\n",
    "    - Genereer een (gesorteerde) lijst van 30'000 items.\n",
    "    - Draai de gesorteerde lijst van 30'000 items van de vorige vraag achterstevoren\n",
    "Hoelang heeft elk algoritme nodig om deze te sorteren?\n",
    "\n",
    "\\begin{array} {|r|r|}\n",
    "\\hline\n",
    "& 1000 & 10.000 & 30.000 & 30.000\\;(sorted) & 30.000\\;(reverse) \\\\ \\hline\n",
    "Selection\\;sort\\;(sec) & 0.15 & 13.72 & 123.04 & 125.98 & 127,75 \\\\ \\hline\n",
    "Insertion\\;sort\\;(sec) & 0.12 & 17.04 & 103.69 & 0.02 & 202.66 \\\\ \\hline\n",
    "Merge\\;sort\\;(sec) & 0.02 & 0.42 & 1.40 & 1.09 & 1.08 \\\\ \\hline\n",
    "\\end{array}\n",
    "\n",
    "### opdracht 2\n",
    "In de tabel hieronder staan voor alle geïmplementeerde algoritmes run time efficiëntie van de 'best case', 'worst case' en 'average case'.\n",
    "\n",
    "\\begin{array} {|r|r|}\n",
    "\\hline\n",
    " & best\\;case & worst\\;case & average\\;case \\\\ \\hline\n",
    "Selection\\;sort & n^2 & n^2 & n^2 \\\\ \\hline\n",
    "Insertion\\;sort & n & n^2 & n^2 \\\\ \\hline\n",
    "Merge\\;sort & n\\log(n) & n\\log(n) & n\\log(n) \\\\\n",
    "\\hline\n",
    "\\end{array}\n",
    "\n",
    "### opdracht 3\n",
    "Voor de complexiteit (Big O) van het algoritme maakt het niet uit of er een iteratieve of een recursieve versie wordt beschouwd. Hoewel de aanpak van beide versies anders is zullen misschien bij de ene versie er net iets meer stappen gezet moeten worden dan bij de andere. Echter zal de Big O hetzelfde blijven omdat uiteindelijk de twee versies hetzelfde gedrag zullen vertonen (ze gebruiken dezelfde data en technieken om te sorteren, maar de aanpak verschilt)."
   ]
  }
 ],
 "metadata": {
  "kernelspec": {
   "display_name": "Python 3",
   "language": "python",
   "name": "python3"
  },
  "language_info": {
   "codemirror_mode": {
    "name": "ipython",
    "version": 3
   },
   "file_extension": ".py",
   "mimetype": "text/x-python",
   "name": "python",
   "nbconvert_exporter": "python",
   "pygments_lexer": "ipython3",
   "version": "3.7.6"
  }
 },
 "nbformat": 4,
 "nbformat_minor": 1
}
