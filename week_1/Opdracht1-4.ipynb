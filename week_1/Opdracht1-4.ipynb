{
 "cells": [
  {
   "cell_type": "markdown",
   "metadata": {},
   "source": [
    "# Opdracht 1.4: Ruimte-tijd"
   ]
  },
  {
   "cell_type": "markdown",
   "metadata": {},
   "source": [
    "### 1.\n",
    "Neem aan dat een moderne programmeeropdracht (bijv. het trainen van een ML-model) $1.000$ uur process time verbruikt.\n",
    "Als deze taak wordt uitgevoerd op een cluster computer die $1400$ Watts (W) aan energie verbruikt, hoeveel energie verbruik je dan (in kilowatt-uur, of kWh) in totaal?  \n",
    "  \n",
    "Om watts om te zetten naar kWh kan de volgende formule gebruikt worden:  \n",
    "$E_{(kWh)} = \\frac{P_{(W)} \\times t{(hr)}}{1000}$  \n",
    "Met behulp van deze formule kan de hoeveelheid totale energie berekend worden:  \n",
    "$E_{(kWh)} = \\frac{1400 \\times 1000}{1000}$  \n",
    "$E_{(kWh)} = 1400 $ kWh  \n",
    "  \n",
    "### 2.1\n",
    "Een liter diesel bevat ongeveer 10kWh aan energie, waarvan slechts 15% wordt gebruikt om de auto daadwerkelijk voort te bewegen. Als een gemiddelde dieselauto 20 km kan rijden op 1 liter diesel, hoeveel energie is er dan nodig om 475 km te rijden, ongeveer de afstand van Utrecht naar Parijs?  \n",
    "  \n",
    "Allereerst wordt de hoeveelheid benodigde liters berekend:  \n",
    "$\\frac{475\\;km}{20\\;km} = 23,75\\; liter$  \n",
    "De hoeveelheid liters kunnen we nu vermenigvuldigen met de potentiële energie van de brandstof:  \n",
    "$23,75\\; liter \\cdot 10\\; kWh = 237,5\\; kWh$  \n",
    "Zoals in de tekst beschreven wordt er maar 15% gebruikt voor het voortbewegen:\n",
    "$237,5\\; kWh \\cdot 0,15 = 35,63\\;kWh$\n",
    "\n",
    "### 2.2\n",
    "Hoe vaak zou je op-en-neer kunnen als je de energie gebruikt die benodigd is om die taak van 1'000 uur process time te berekenen?  \n",
    "$\\frac{1400}{35,63} = 39,30\\; keer$  \n",
    "Aangezien het op-en-neer is moeten we de uitkomst nog door 2 delen:  \n",
    "$\\frac{39,20}{2} = 19,6\\; keer$\n",
    "Ofwel je kan ruim 19 keer op-en-neer kunnen met dezelfde hoeveelheid energie die benodigd is voor een taak van 1000 uur process time.\n",
    "\n",
    "### 3\n",
    "Hoeveel liter diesel is er nodig om het cluster elk uur draaiend te houden?  \n",
    "  \n",
    "Om dit uit te rekenen moeten we eerst de hoeveelheid kWh berekenen van het cluster voor één uur:  \n",
    "$\\frac{1400\\; W \\cdot 1\\; uur}{1000} = 1,4\\; kWh$  \n",
    "Wanneer we ervan uitgaan dat van 1 liter diesel ook maar 15% wordt gebruikt om een cluster draaiend te krijgen kunnen we berekenen hoeveel liter benodigd is om het cluster elk uur draaiend te houden:  \n",
    "$\\frac{10\\; kWh \\cdot 0,15}{1,4\\; kWh} = 1,1\\; liter$  \n",
    "\n",
    "### 4\n",
    "Neem aan dat je de taak efficient zou kunnen verdelen over vier processorkernen, waarmee je effectief de hoeveelheid process time kan reduceren tot één vierde (250 uur). Wat is dan de corresponderende afstand die je kan rijden met je dieselauto?  \n",
    "  \n",
    "Allereerst berekenen we de nieuwe hoeveelheid kilowattuur die de cluster benodigd zal hebben:  \n",
    "$E_{(kWh)} = \\frac{1400 \\times 250}{1000}$  \n",
    "$E_{(kWh)} =  350\\;kWh$  \n",
    "Aangezien we weten hoeveel energie benodigd is om 475 km te rijden delen we deze hoeveelheid door de gebruikte energie van de cluster:  \n",
    "$\\frac{350}{35,63} = 9,82$  \n",
    "Wanneer we deze factor keer 475 doen krijgen we de corresponderende afstand die gereden kan worden met een dieselauto:  \n",
    "$8,42 \\cdot 475\\; km = 4.666\\; km$"
   ]
  }
 ],
 "metadata": {
  "kernelspec": {
   "display_name": "Python 3",
   "language": "python",
   "name": "python3"
  },
  "language_info": {
   "codemirror_mode": {
    "name": "ipython",
    "version": 3
   },
   "file_extension": ".py",
   "mimetype": "text/x-python",
   "name": "python",
   "nbconvert_exporter": "python",
   "pygments_lexer": "ipython3",
   "version": "3.7.6"
  }
 },
 "nbformat": 4,
 "nbformat_minor": 4
}
