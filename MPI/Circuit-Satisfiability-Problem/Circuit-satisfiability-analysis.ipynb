{
 "cells": [
  {
   "cell_type": "markdown",
   "metadata": {},
   "source": [
    "# Circuit satisfiability analyse\n",
    "\n",
    "In dit document worden de resultaten uit de getimede testen van het circuit satisfiability programma uitgewerkt. Allereerst wordt het csv-bestand waarin alle resultaten staan ingelezen om hierna de asses te selecteren om uiteindelijk de grafiek te plotten."
   ]
  },
  {
   "cell_type": "code",
   "execution_count": 1,
   "metadata": {},
   "outputs": [],
   "source": [
    "import matplotlib.pyplot as plt\n",
    "import pandas as pd\n",
    "import seaborn as sns"
   ]
  },
  {
   "cell_type": "code",
   "execution_count": 2,
   "metadata": {},
   "outputs": [
    {
     "data": {
      "text/html": [
       "<div>\n",
       "<style scoped>\n",
       "    .dataframe tbody tr th:only-of-type {\n",
       "        vertical-align: middle;\n",
       "    }\n",
       "\n",
       "    .dataframe tbody tr th {\n",
       "        vertical-align: top;\n",
       "    }\n",
       "\n",
       "    .dataframe thead th {\n",
       "        text-align: right;\n",
       "    }\n",
       "</style>\n",
       "<table border=\"1\" class=\"dataframe\">\n",
       "  <thead>\n",
       "    <tr style=\"text-align: right;\">\n",
       "      <th></th>\n",
       "      <th>Method</th>\n",
       "      <th>Number of Processes</th>\n",
       "      <th>Time</th>\n",
       "      <th>Solutions</th>\n",
       "    </tr>\n",
       "  </thead>\n",
       "  <tbody>\n",
       "    <tr>\n",
       "      <th>0</th>\n",
       "      <td>Sequential</td>\n",
       "      <td>1</td>\n",
       "      <td>371.80</td>\n",
       "      <td>81</td>\n",
       "    </tr>\n",
       "    <tr>\n",
       "      <th>1</th>\n",
       "      <td>Parallel</td>\n",
       "      <td>2</td>\n",
       "      <td>188.90</td>\n",
       "      <td>81</td>\n",
       "    </tr>\n",
       "    <tr>\n",
       "      <th>2</th>\n",
       "      <td>Parallel</td>\n",
       "      <td>4</td>\n",
       "      <td>124.76</td>\n",
       "      <td>81</td>\n",
       "    </tr>\n",
       "    <tr>\n",
       "      <th>3</th>\n",
       "      <td>Parallel</td>\n",
       "      <td>8</td>\n",
       "      <td>127.20</td>\n",
       "      <td>81</td>\n",
       "    </tr>\n",
       "    <tr>\n",
       "      <th>4</th>\n",
       "      <td>Parallel</td>\n",
       "      <td>16</td>\n",
       "      <td>137.90</td>\n",
       "      <td>81</td>\n",
       "    </tr>\n",
       "    <tr>\n",
       "      <th>5</th>\n",
       "      <td>Parallel</td>\n",
       "      <td>32</td>\n",
       "      <td>131.84</td>\n",
       "      <td>81</td>\n",
       "    </tr>\n",
       "    <tr>\n",
       "      <th>6</th>\n",
       "      <td>Parallel</td>\n",
       "      <td>64</td>\n",
       "      <td>131.87</td>\n",
       "      <td>81</td>\n",
       "    </tr>\n",
       "    <tr>\n",
       "      <th>7</th>\n",
       "      <td>Parallel</td>\n",
       "      <td>128</td>\n",
       "      <td>139.28</td>\n",
       "      <td>81</td>\n",
       "    </tr>\n",
       "  </tbody>\n",
       "</table>\n",
       "</div>"
      ],
      "text/plain": [
       "       Method  Number of Processes    Time  Solutions\n",
       "0  Sequential                    1  371.80         81\n",
       "1    Parallel                    2  188.90         81\n",
       "2    Parallel                    4  124.76         81\n",
       "3    Parallel                    8  127.20         81\n",
       "4    Parallel                   16  137.90         81\n",
       "5    Parallel                   32  131.84         81\n",
       "6    Parallel                   64  131.87         81\n",
       "7    Parallel                  128  139.28         81"
      ]
     },
     "execution_count": 2,
     "metadata": {},
     "output_type": "execute_result"
    }
   ],
   "source": [
    "df_data = pd.read_csv('speed_test.csv')\n",
    "df_data"
   ]
  },
  {
   "cell_type": "code",
   "execution_count": 3,
   "metadata": {},
   "outputs": [
    {
     "data": {
      "image/png": "[encoded data removed]",
      "text/plain": [
       "<Figure size 1080x504 with 1 Axes>"
      ]
     },
     "metadata": {},
     "output_type": "display_data"
    }
   ],
   "source": [
    "sns.set_style(\"darkgrid\")\n",
    "plt.figure(figsize=(15, 7))\n",
    "\n",
    "# plot the time for every amount of processes\n",
    "x = df_data[['Number of Processes']]\n",
    "y = df_data[['Time']]\n",
    "\n",
    "plt.scatter(x,y)\n",
    "plt.plot(x,y)\n",
    "\n",
    "# add title and x, y labels\n",
    "plt.title(\"Snelheid circuit Satisfiability programma per hoeveelheid beschikbare processen\")\n",
    "plt.xlabel(\"Hoeveelheid Processen\")\n",
    "plt.ylabel(\"Benodigde tijd(sec)\")\n",
    "\n",
    "plt.show()"
   ]
  },
  {
   "cell_type": "markdown",
   "metadata": {},
   "source": [
    "## analyse grafiek\n",
    "\n",
    "Zoals in de grafiek te zien is doet het algoritme er ongeveer 370 seconden over wanneer hij sequentieel met maar één proces gedraaid wordt. Wanneer het programma in meerdere processen verdeeld wordt valt er terug te zien in de grafiek dat bij twee beschikbare processen nog maar de helft van de tijd nodig is en bij vier beschikbare processen nog maar eenderde van de hoeveelheid tijd.  \n",
    "Echter houdt de 'speedup' van het algoritme vanaf vier beschikbare processen op. In de grafiek valt af te lezen dat de benodigde tijd om het programma te draaien vanaf 4 beschikbare processen redelijk gelijk trekt en de benodigde tijd dus ook redelijk gelijk blijft.  \n",
    "\n",
    "Een eventuele onderbouwing voor dit fenomeen zou dan ook kunnen zijn dat de Virtuele machine waarmee ik het programma gedraait en getimed heb maar toegang heeft tot 3 cores. Hierdoor kan het systeem dan ook maar constant 3 processen tegelijkertijd draaien, wat dit verschijnsel zou verklaren.  \n",
    "\n",
    "Wanneer er gevraagd wordt voor meer processen dan dat er beschikbare cores zijn zal MPI het programma alsnog draaien, echter zal het programma dan draaien met een verminderde efficiëntie. Dit valt ook terug te lezen in de grafiek, aangezien naarmate het programma met meer processen gedraaid wordt de benodigde tijd iets meer toeneemt."
   ]
  }
 ],
 "metadata": {
  "kernelspec": {
   "display_name": "Python 3",
   "language": "python",
   "name": "python3"
  },
  "language_info": {
   "codemirror_mode": {
    "name": "ipython",
    "version": 3
   },
   "file_extension": ".py",
   "mimetype": "text/x-python",
   "name": "python",
   "nbconvert_exporter": "python",
   "pygments_lexer": "ipython3",
   "version": "3.7.6"
  }
 },
 "nbformat": 4,
 "nbformat_minor": 4
}
