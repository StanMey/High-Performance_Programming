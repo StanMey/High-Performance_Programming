{
 "cells": [
  {
   "cell_type": "markdown",
   "metadata": {},
   "source": [
    "# asdf"
   ]
  },
  {
   "cell_type": "code",
   "execution_count": 3,
   "metadata": {},
   "outputs": [],
   "source": [
    "import numpy as np\n",
    "\n",
    "import pymp as omp\n",
    "import mpi4py as mpi"
   ]
  },
  {
   "cell_type": "markdown",
   "metadata": {},
   "source": []
  },
  {
   "cell_type": "code",
   "execution_count": null,
   "metadata": {},
   "outputs": [],
   "source": []
  },
  {
   "cell_type": "code",
   "execution_count": null,
   "metadata": {},
   "outputs": [],
   "source": [
    "def find_primes_sieve(N):\n",
    "    \"\"\"\"\"\"\n",
    "    \n",
    "    sieve = [True for i in range(N + 1)]\n",
    "    p = 2\n",
    "    \n",
    "    while (p * p <= N):\n",
    "        \n",
    "        # check if current number is prime\n",
    "        if sieve[p]:\n",
    "            \n",
    "            # Update all multiples of p\n",
    "            for i in range(p * 2, N + 1, p):\n",
    "                sieve[i] = False\n",
    "        p += 1\n",
    "    \n",
    "    # set 0 and 1 to false\n",
    "    sieve[0] = False\n",
    "    sieve[1] = False\n",
    "    \n",
    "    # iterate over the whole list and return all the primes\n",
    "    primes = list()\n",
    "    for x in range(N + 1):\n",
    "        if sieve[x]:\n",
    "            primes.append(x)\n",
    "    \n",
    "    return primes "
   ]
  },
  {
   "cell_type": "code",
   "execution_count": 7,
   "metadata": {},
   "outputs": [
    {
     "name": "stdout",
     "output_type": "stream",
     "text": [
      "31622.776601683792\n",
      "31623.0\n"
     ]
    }
   ],
   "source": [
    "a = 1e9\n",
    "b = np.sqrt(a)\n",
    "print(b)\n",
    "print(np.ceil(b))"
   ]
  },
  {
   "cell_type": "code",
   "execution_count": null,
   "metadata": {},
   "outputs": [],
   "source": []
  },
  {
   "cell_type": "code",
   "execution_count": null,
   "metadata": {},
   "outputs": [],
   "source": []
  },
  {
   "cell_type": "code",
   "execution_count": null,
   "metadata": {},
   "outputs": [],
   "source": []
  },
  {
   "cell_type": "code",
   "execution_count": null,
   "metadata": {},
   "outputs": [],
   "source": []
  },
  {
   "cell_type": "code",
   "execution_count": null,
   "metadata": {},
   "outputs": [],
   "source": []
  },
  {
   "cell_type": "code",
   "execution_count": null,
   "metadata": {},
   "outputs": [],
   "source": []
  }
 ],
 "metadata": {
  "kernelspec": {
   "display_name": "Python 3",
   "language": "python",
   "name": "python3"
  },
  "language_info": {
   "codemirror_mode": {
    "name": "ipython",
    "version": 3
   },
   "file_extension": ".py",
   "mimetype": "text/x-python",
   "name": "python",
   "nbconvert_exporter": "python",
   "pygments_lexer": "ipython3",
   "version": "3.7.6"
  }
 },
 "nbformat": 4,
 "nbformat_minor": 4
}
