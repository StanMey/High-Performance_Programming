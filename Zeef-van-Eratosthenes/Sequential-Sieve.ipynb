{
 "cells": [
  {
   "cell_type": "markdown",
   "metadata": {},
   "source": [
    "# Sequentiële versie Zeef van Eratosthenes"
   ]
  },
  {
   "cell_type": "code",
   "execution_count": 1,
   "metadata": {},
   "outputs": [],
   "source": [
    "import numpy as np\n",
    "import time"
   ]
  },
  {
   "cell_type": "markdown",
   "metadata": {},
   "source": []
  },
  {
   "cell_type": "code",
   "execution_count": 2,
   "metadata": {},
   "outputs": [],
   "source": [
    "def find_primes_sieve(N):\n",
    "    \"\"\"\"\"\"\n",
    "    \n",
    "    sieve = [True for i in range(N + 1)]\n",
    "    p = 2\n",
    "    \n",
    "    while (p * p <= N):\n",
    "        \n",
    "        # check if current number is prime\n",
    "        if sieve[p]:\n",
    "            \n",
    "            # Update all multiples of p\n",
    "            for i in range(p * 2, N + 1, p):\n",
    "                sieve[i] = False\n",
    "        p += 1\n",
    "    \n",
    "    # set 0 and 1 to false\n",
    "    sieve[0] = False\n",
    "    sieve[1] = False\n",
    "    \n",
    "    # iterate over the whole list and return all the primes\n",
    "    primes = list()\n",
    "    for x in range(N + 1):\n",
    "        if sieve[x]:\n",
    "            primes.append(x)\n",
    "    \n",
    "    return primes "
   ]
  },
  {
   "cell_type": "markdown",
   "metadata": {},
   "source": []
  },
  {
   "cell_type": "code",
   "execution_count": 3,
   "metadata": {},
   "outputs": [
    {
     "name": "stdout",
     "output_type": "stream",
     "text": [
      "True\n"
     ]
    }
   ],
   "source": [
    "# The list with actual primes under 100\n",
    "primes_under_100 = [2, 3, 5, 7, 11, 13, 17, 19, 23, 29, 31, 37, 41, 43, 47, 53, 59, 61, 67, 71, 73, 79, 83, 89, 97]\n",
    "\n",
    "# The list with primes the function gave back\n",
    "sieve_answer = find_primes_sieve(100)\n",
    "\n",
    "# check if the two lists are identical\n",
    "print(primes_under_100 == sieve_answer)"
   ]
  },
  {
   "cell_type": "markdown",
   "metadata": {},
   "source": []
  },
  {
   "cell_type": "code",
   "execution_count": 4,
   "metadata": {},
   "outputs": [
    {
     "name": "stdout",
     "output_type": "stream",
     "text": [
      "The algorithm took 29.966 seconds over 100000000 items\n"
     ]
    }
   ],
   "source": [
    "start_time = time.time()\n",
    "\n",
    "# running the function with 100 million items\n",
    "n = 100000000\n",
    "find_primes_sieve(n)\n",
    "\n",
    "end_time = time.time()\n",
    "print(\"The algorithm took {0} seconds over {1} items\".format(round(end_time - start_time, 3), n))"
   ]
  },
  {
   "cell_type": "code",
   "execution_count": null,
   "metadata": {},
   "outputs": [],
   "source": []
  }
 ],
 "metadata": {
  "kernelspec": {
   "display_name": "Python 3",
   "language": "python",
   "name": "python3"
  },
  "language_info": {
   "codemirror_mode": {
    "name": "ipython",
    "version": 3
   },
   "file_extension": ".py",
   "mimetype": "text/x-python",
   "name": "python",
   "nbconvert_exporter": "python",
   "pygments_lexer": "ipython3",
   "version": "3.7.6"
  }
 },
 "nbformat": 4,
 "nbformat_minor": 4
}
