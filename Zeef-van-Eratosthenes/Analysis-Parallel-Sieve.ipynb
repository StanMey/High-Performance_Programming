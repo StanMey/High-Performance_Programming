{
 "cells": [
  {
   "cell_type": "markdown",
   "metadata": {},
   "source": [
    "# Eindopdracht: Zeef van Eratosthenes\n",
    "\n",
    "Voor deze opdracht moest een conceptueel eenvoudig probleem opgelost worden. Echter is dit probleem computationeel lastig, en erg belangrijk voor cryptografie en security.  \n",
    "Het gaat om het vinden van alle priemgetallen tot een bepaalde (grote) limietwaarde. Om dit probleem op te lossen gaan we een \"hybride\" parallelle versie maken van een klassiek algoritme, genaamd [Eratosthenes Zeef](https://nl.wikipedia.org/wiki/Zeef_van_Eratosthenes)."
   ]
  },
  {
   "cell_type": "code",
   "execution_count": 2,
   "metadata": {},
   "outputs": [],
   "source": [
    "import matplotlib.pyplot as plt\n",
    "import seaborn as sns\n",
    "import pandas as pd\n",
    "import numpy as np\n",
    "import time"
   ]
  },
  {
   "cell_type": "markdown",
   "metadata": {},
   "source": [
    "## Sequentiële Zeef\n",
    "\n",
    "Allereerst wordt de sequentiële zeef gebouwd om zometeen mee te kunnen vergelijken."
   ]
  },
  {
   "cell_type": "code",
   "execution_count": 3,
   "metadata": {},
   "outputs": [],
   "source": [
    "def find_primes_sieve(N):\n",
    "    \"\"\"Finds all primes between 0 and N\"\"\"\n",
    "    \n",
    "    sieve = [True for i in range(N + 1)]\n",
    "    p = 2\n",
    "    \n",
    "    while (p * p <= N):\n",
    "        \n",
    "        # check if current number is prime\n",
    "        if sieve[p]:\n",
    "            \n",
    "            # Update all multiples of p\n",
    "            for i in range(p * 2, N + 1, p):\n",
    "                sieve[i] = False\n",
    "        p += 1\n",
    "    \n",
    "    # set 0 and 1 to false\n",
    "    sieve[0] = False\n",
    "    sieve[1] = False\n",
    "    \n",
    "    # iterate over the whole list and return all the primes\n",
    "    primes = list()\n",
    "    for x in range(N + 1):\n",
    "        if sieve[x]:\n",
    "            primes.append(x)\n",
    "    \n",
    "    return primes "
   ]
  },
  {
   "cell_type": "markdown",
   "metadata": {},
   "source": [
    "Hierna wordt de functie getest op geldigheid."
   ]
  },
  {
   "cell_type": "code",
   "execution_count": 4,
   "metadata": {},
   "outputs": [
    {
     "name": "stdout",
     "output_type": "stream",
     "text": [
      "True\n"
     ]
    }
   ],
   "source": [
    "# The list with actual primes under 100\n",
    "primes_under_100 = [2, 3, 5, 7, 11, 13, 17, 19, 23, 29, 31, 37, 41, 43, 47, 53, 59, 61, 67, 71, 73, 79, 83, 89, 97]\n",
    "\n",
    "# The list with primes the function gave back\n",
    "sieve_answer = find_primes_sieve(100)\n",
    "\n",
    "# check if the two lists are identical\n",
    "print(primes_under_100 == sieve_answer)"
   ]
  },
  {
   "cell_type": "markdown",
   "metadata": {},
   "source": [
    "Ook wordt de functie getimed, waarbij de priemgetallen tot en met 100.000.000 gevonden worden met behulp van de sequentiële aanpak."
   ]
  },
  {
   "cell_type": "code",
   "execution_count": 5,
   "metadata": {},
   "outputs": [
    {
     "name": "stdout",
     "output_type": "stream",
     "text": [
      "The algorithm took 27.999 seconds over 100000000 items\n"
     ]
    }
   ],
   "source": [
    "start_time = time.time()\n",
    "\n",
    "# running the function with 100 million items\n",
    "n = 100000000\n",
    "find_primes_sieve(n)\n",
    "\n",
    "end_time = time.time()\n",
    "print(\"The algorithm took {0} seconds over {1} items\".format(round(end_time - start_time, 3), n))"
   ]
  },
  {
   "cell_type": "markdown",
   "metadata": {},
   "source": [
    "## Parallelle Zeef"
   ]
  },
  {
   "cell_type": "markdown",
   "metadata": {},
   "source": [
    "### Ontwerp\n",
    "Het programma wordt uiteindelijk gedraaid door het commando:  \n",
    "$\\textbf{mpirun -n 4 Parallel-Sieve.py 1000}$  \n",
    "te draaien in de command line.  \n",
    "  \n",
    "Tijdens dit commando worden er twee argumenten meegegeven die uiteindelijk voor het draaien van het programma cruciaal zijn. Allereerst wordt meegegeven met hoeveel processen het programma mag draaien en ten tweede wordt meegegeven tot hoever het programma moet gaan zoeken naar priemgetallen.  \n",
    "  \n",
    "In het bovenstaande voorbeeld zal het programma dus met 4 processen naar alle priemgetallen tot de 1000 zoeken. De volgende stappen worden dan genomen door het programma.  \n",
    "  \n",
    "Het programma werkt volgens het master-worker model, dit betekent dat er één proces is die de andere processen in gang zet. Allereerst worden de bereiken bepaald van de arrays die uiteindelijk ieder proces zal doorlopen. Dit zal betekenen dat met duizend elementen in totaal de master alle priemgetallen checkt van 0 tot 250, proces 1 251 tot 500, enzovoorts.  \n",
    "\n",
    "De master berekent deze ranges uit en informeert de processen welke begin en eind range ze hebben, zodat de processen alvast voor zichzelf deze informatie kunnen opslaan en de lokale true/false array kunnen aanmaken.  \n",
    "\n",
    "Hierna zal de master in zijn eigen array gaan zoeken naar het eerstvolgende priemgetal zolang $p^2 <= N$. Wanneer de master een priemgetal gevonden heeft geeft hij dit door aan alle processen waarna zowel de master als de processen alle niet-priemgetallen in hun lokale arrays omzetten naar False.  \n",
    "\n",
    "Wanneer de master tot zijn eind voorwaarde gekomen is geeft hij dit door aan alle processen zodat de master en alle processen kunnen berekenen welke priemgetallen ze nou precies in hun array overhouden. Deze array van priemgetallen sturen ze dan ook uiteindelijk terug naar de master zodat hij deze dan ook uiteindelijk kan samenvoegen om zo één lijst met alle priemgetallen terug te geven.\n",
    "\n",
    "### Overhead\n",
    "Zoals al eerder vermeld wordt voor de parallelle implementatie gebruik gemaakt van de master-worker model. De master zoekt naar het volgende priemgetal en wanneer hij die gevonden heeft stuurt hij deze door naar alle werkers, waarna alle werkers en de master zelf de meervouden hiervan uit hun lijst schrappen.  \n",
    "Hiervoor is er wel een significante overhead nodig, omdat ieder priemgetal die de master tegenkomt doorgestuurt wordt naar de werkers. Wanneer de werkers eenmaal klaar zijn met hun berekeningen zullen ze weer wachten tot de master een bericht stuurt. De werkers gaan dus constant van 'berekeningen uitvoeren' naar 'wachten op een bericht vanuit de master'. Alleen op het laatste zullen ze wat terug sturen en dat is dan uiteindelijk de lijst met alle priemgetallen die ze zelf berekend hebben.\n",
    "\n",
    "### Resulaten\n",
    "De Zeef is uiteindelijk getest met 100 miljoen getallen. Uiteindelijk is ervoor gekozen om van 1 tot 16 processen te testen. Hieronder worden de resultaten ervan in een grafiek gezet."
   ]
  },
  {
   "cell_type": "code",
   "execution_count": 6,
   "metadata": {},
   "outputs": [
    {
     "data": {
      "text/html": [
       "<div>\n",
       "<style scoped>\n",
       "    .dataframe tbody tr th:only-of-type {\n",
       "        vertical-align: middle;\n",
       "    }\n",
       "\n",
       "    .dataframe tbody tr th {\n",
       "        vertical-align: top;\n",
       "    }\n",
       "\n",
       "    .dataframe thead th {\n",
       "        text-align: right;\n",
       "    }\n",
       "</style>\n",
       "<table border=\"1\" class=\"dataframe\">\n",
       "  <thead>\n",
       "    <tr style=\"text-align: right;\">\n",
       "      <th></th>\n",
       "      <th>Method</th>\n",
       "      <th>Number of Processes</th>\n",
       "      <th>Time</th>\n",
       "      <th>elements</th>\n",
       "    </tr>\n",
       "  </thead>\n",
       "  <tbody>\n",
       "    <tr>\n",
       "      <th>0</th>\n",
       "      <td>Sequential</td>\n",
       "      <td>1</td>\n",
       "      <td>27.56</td>\n",
       "      <td>100000000</td>\n",
       "    </tr>\n",
       "    <tr>\n",
       "      <th>1</th>\n",
       "      <td>Parallel (MPI)</td>\n",
       "      <td>1</td>\n",
       "      <td>92.76</td>\n",
       "      <td>100000000</td>\n",
       "    </tr>\n",
       "    <tr>\n",
       "      <th>2</th>\n",
       "      <td>Parallel (MPI)</td>\n",
       "      <td>2</td>\n",
       "      <td>49.42</td>\n",
       "      <td>100000000</td>\n",
       "    </tr>\n",
       "    <tr>\n",
       "      <th>3</th>\n",
       "      <td>Parallel (MPI)</td>\n",
       "      <td>4</td>\n",
       "      <td>36.93</td>\n",
       "      <td>100000000</td>\n",
       "    </tr>\n",
       "    <tr>\n",
       "      <th>4</th>\n",
       "      <td>Parallel (MPI)</td>\n",
       "      <td>8</td>\n",
       "      <td>40.90</td>\n",
       "      <td>100000000</td>\n",
       "    </tr>\n",
       "    <tr>\n",
       "      <th>5</th>\n",
       "      <td>Parallel (MPI)</td>\n",
       "      <td>16</td>\n",
       "      <td>54.58</td>\n",
       "      <td>100000000</td>\n",
       "    </tr>\n",
       "  </tbody>\n",
       "</table>\n",
       "</div>"
      ],
      "text/plain": [
       "           Method  Number of Processes   Time   elements\n",
       "0      Sequential                    1  27.56  100000000\n",
       "1  Parallel (MPI)                    1  92.76  100000000\n",
       "2  Parallel (MPI)                    2  49.42  100000000\n",
       "3  Parallel (MPI)                    4  36.93  100000000\n",
       "4  Parallel (MPI)                    8  40.90  100000000\n",
       "5  Parallel (MPI)                   16  54.58  100000000"
      ]
     },
     "execution_count": 6,
     "metadata": {},
     "output_type": "execute_result"
    }
   ],
   "source": [
    "df_data = pd.read_csv('Sieve_speedtest.csv')\n",
    "df_data"
   ]
  },
  {
   "cell_type": "code",
   "execution_count": 8,
   "metadata": {},
   "outputs": [
    {
     "data": {
      "image/png": "[encoded data removed]",
      "text/plain": [
       "<Figure size 1080x504 with 1 Axes>"
      ]
     },
     "metadata": {},
     "output_type": "display_data"
    }
   ],
   "source": [
    "sns.set_style(\"darkgrid\")\n",
    "plt.figure(figsize=(15, 7))\n",
    "\n",
    "# get all the methods\n",
    "methods = df_data['Method'].unique()\n",
    "\n",
    "# plot the time for every amount of processes\n",
    "for method in df_data['Method'].unique():\n",
    "    x = df_data[df_data['Method'] == method]['Number of Processes']\n",
    "    y = df_data[df_data['Method'] == method]['Time']\n",
    "    \n",
    "    plt.plot(x, y, label=method)\n",
    "    plt.scatter(x, y)\n",
    "    \n",
    "\n",
    "# add title and x, y labels\n",
    "plt.title(\"Snelheid parallelle implementatie Zeef van Eratosthenes met meerdere processen\")\n",
    "plt.xlabel(\"Hoeveelheid Processen\")\n",
    "plt.ylabel(\"Benodigde tijd(sec)\")\n",
    "\n",
    "plt.legend()\n",
    "plt.show()"
   ]
  },
  {
   "cell_type": "markdown",
   "metadata": {},
   "source": [
    "### Analyse Resultaten\n",
    "\n",
    "Zoals in de grafiek te zien is neemt de benodigde snelheid met de parallelle methode aan het begin af om daarna weer langzaam toe te nemen. Dit valt voornamelijk te wijten aan het feit dat de computer waarop het gedraaid wordt 3 cores tot zijn beschikking heeft.  \n",
    "  \n",
    "Verder valt te zien dat de sequentiële manier sneller is dan alle parallelle manieren. Dit is waarschijnlijk te wijten aan het feit dat de code redelijk wat overhead heeft en dus langer erover zal doen dan de sequentiële versie met 100 miljoen elementen."
   ]
  },
  {
   "cell_type": "markdown",
   "metadata": {},
   "source": [
    "## Reflectie opdracht\n",
    "\n",
    "Het is me uiteindelijk redelijk gelukt om een werkende parallelle versie van de zeef te programmeren.  \n",
    "\n",
    "Echter wanneer het programma aangeroepen wordt met een lage N en een grote hoeveelheid processen geeft hij een error. Dit komt omdat tijdens het verdelen van de ranges, het programma ervan uit gaat dat de master array tenminste $\\sqrt{N}$ elementen heeft en met bepaalde begin settings heeft de array dit niet. Het is me (tot op heden) nog niet gelukt om tijdens het verdelen van de workload hiermee rekening te houden. Echter moet ik hierbij wel zeggen dat de limietwaarde dusdanig laag is op deze momenten dat de gebruiker erover na zou kunnen denken om de priemgetallen via de sequentiële manier te berekenen.  \n",
    "\n",
    "Ik vond het voornamelijk lastig bij deze opdracht om het algoritme parallel te krijgen. Ik heb dan ook uiteindelijk het programma twee keer bijna geheel moeten herschrijven omdat ik een richting inging die uiteindelijk op niets bleek uit te komen. Ik vond het ook lastig (zoals ik al eerder vermeld had) om de workload 'eerlijk' te verdelen ten opzichte van de voorwaarde van de zeef en de hoeveelheid processen.\n",
    "\n",
    "Oorspronkelijk wilde ik het programma met een hogere limietwaarde dan 100 miljoen draaien en met meerdere processen, echter omdat ik dit op mijn eigen laptop draaide is me dit niet gelukt. Allereerst liep mijn computer tegen een 'memory-error' aan wanneer ik de sequentiële versie draaide met 1 miljard. Ten tweede liet ik mijn VM crashen wanneer ik de parallele versie draaide met meer dan 16 processen.  \n",
    "  \n",
    "Uiteindelijk heb ik een programma opgeleverd die op een parallelle manier gebruik makend van MPI de priemgetallen tot een bepaalde limietwaarde kan berekenen. Ik ben hier dan ook best wel trots op."
   ]
  }
 ],
 "metadata": {
  "kernelspec": {
   "display_name": "Python 3",
   "language": "python",
   "name": "python3"
  },
  "language_info": {
   "codemirror_mode": {
    "name": "ipython",
    "version": 3
   },
   "file_extension": ".py",
   "mimetype": "text/x-python",
   "name": "python",
   "nbconvert_exporter": "python",
   "pygments_lexer": "ipython3",
   "version": "3.7.6"
  }
 },
 "nbformat": 4,
 "nbformat_minor": 4
}
